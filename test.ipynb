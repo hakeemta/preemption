{
 "cells": [
  {
   "cell_type": "code",
   "execution_count": 8,
   "metadata": {},
   "outputs": [],
   "source": [
    "import pathlib\n",
    "import numpy as np\n",
    "import pandas as pd\n",
    "\n",
    "from utils import *\n",
    "from viz import *\n",
    "from task_system import TaskSystem\n",
    "from policies.edf import EDF\n",
    "\n",
    "import plotly.express as px\n",
    "import plotly.graph_objects as go\n",
    "\n",
    "import os\n",
    "os.environ[\"IMAGEIO_FFMPEG_EXE\"] = '/Users/abdulhakeemabdulrahman/homebrew/bin/ffmpeg'\n",
    "\n",
    "import  moviepy.editor as mpy\n",
    "import io \n",
    "from PIL import Image"
   ]
  },
  {
   "cell_type": "code",
   "execution_count": 9,
   "metadata": {},
   "outputs": [
    {
     "name": "stdout",
     "output_type": "stream",
     "text": [
      "The autoreload extension is already loaded. To reload it, use:\n",
      "  %reload_ext autoreload\n"
     ]
    }
   ],
   "source": [
    "%load_ext autoreload\n",
    "%autoreload 2"
   ]
  },
  {
   "cell_type": "code",
   "execution_count": 10,
   "metadata": {},
   "outputs": [],
   "source": [
    "def run(filename, out_filename):\n",
    "    sys = TaskSystem()\n",
    "    sys.load_tasks(filename=filename)\n",
    "\n",
    "    for t in range(32):\n",
    "        index = EDF(sys.tasks, atomic=True)\n",
    "\n",
    "        sys.step(index)\n",
    "\n",
    "    size = len(sys.trace)\n",
    "    lines = []\n",
    "    for start in range(0, size, sys.L):\n",
    "        line = sys.trace[start: (start + sys.L)]\n",
    "        line = [str(i) for i in line]\n",
    "        line = ' '.join(line)\n",
    "        lines.append(line)\n",
    "\n",
    "        if len(lines) > 1 and lines[-1] == lines[0]:\n",
    "            break\n",
    "        \n",
    "    with open(out_filename, 'w') as fp:\n",
    "        for line in lines:\n",
    "            fp.writelines(line + '\\n')\n",
    "\n",
    "    return out_filename\n",
    "        "
   ]
  },
  {
   "cell_type": "code",
   "execution_count": 11,
   "metadata": {},
   "outputs": [
    {
     "data": {
      "text/plain": [
       "'data/trace_example.txt'"
      ]
     },
     "execution_count": 11,
     "metadata": {},
     "output_type": "execute_result"
    }
   ],
   "source": [
    "name = 'example'\n",
    "\n",
    "filename_set = f'data/set_{name}.txt'\n",
    "filename_trace = f'data/trace_{name}.txt'\n",
    "\n",
    "run(filename_set, filename_trace)"
   ]
  },
  {
   "cell_type": "code",
   "execution_count": 12,
   "metadata": {},
   "outputs": [],
   "source": [
    "tasks = read_tasks(filename_set)\n",
    "traces = read_traces(filename_trace)"
   ]
  },
  {
   "cell_type": "code",
   "execution_count": 14,
   "metadata": {},
   "outputs": [],
   "source": [
    "output_dir = f'outputs/{name}'\n",
    "pathlib.Path(output_dir).mkdir(parents=True, exist_ok=True)"
   ]
  },
  {
   "cell_type": "code",
   "execution_count": 15,
   "metadata": {},
   "outputs": [],
   "source": [
    "df_traces = process_traces(traces)\n",
    "# df_traces"
   ]
  },
  {
   "cell_type": "code",
   "execution_count": 16,
   "metadata": {},
   "outputs": [
    {
     "data": {
      "application/vnd.plotly.v1+json": {
       "config": {
        "plotlyServerURL": "https://plot.ly"
       },
       "data": [
        {
         "marker": {
          "color": "#636EFA",
          "size": 12,
          "symbol": "circle"
         },
         "mode": "markers",
         "name": "Task 1",
         "r": [
          100
         ],
         "showlegend": true,
         "theta": [
          360
         ],
         "type": "scatterpolar"
        },
        {
         "marker": {
          "color": "#EF553B",
          "size": 12,
          "symbol": "circle"
         },
         "mode": "markers",
         "name": "Task 2",
         "r": [
          100,
          100
         ],
         "showlegend": true,
         "theta": [
          210,
          390
         ],
         "type": "scatterpolar"
        },
        {
         "marker": {
          "color": "#00CC96",
          "size": 12,
          "symbol": "circle"
         },
         "mode": "markers",
         "name": "Task 3",
         "r": [
          100
         ],
         "showlegend": true,
         "theta": [
          330
         ],
         "type": "scatterpolar"
        },
        {
         "marker": {
          "color": "#AB63FA",
          "size": 12,
          "symbol": "circle"
         },
         "mode": "markers",
         "name": "Task 4",
         "r": [
          100
         ],
         "showlegend": true,
         "theta": [
          270
         ],
         "type": "scatterpolar"
        },
        {
         "base": 0,
         "marker": {
          "color": "#EF553B",
          "line": {
           "color": "black",
           "width": 2
          }
         },
         "opacity": 1,
         "r": [
          100
         ],
         "showlegend": false,
         "theta": [
          15
         ],
         "type": "barpolar",
         "width": [
          30
         ]
        },
        {
         "base": 0,
         "marker": {
          "color": "#00CC96",
          "line": {
           "color": "black",
           "width": 2
          }
         },
         "opacity": 1,
         "r": [
          100
         ],
         "showlegend": false,
         "theta": [
          45
         ],
         "type": "barpolar",
         "width": [
          30
         ]
        },
        {
         "base": 0,
         "marker": {
          "color": "#DDDDDD",
          "line": {
           "color": "black",
           "width": 2
          }
         },
         "opacity": 1,
         "r": [
          100
         ],
         "showlegend": false,
         "theta": [
          90
         ],
         "type": "barpolar",
         "width": [
          60
         ]
        },
        {
         "base": 0,
         "marker": {
          "color": "#EF553B",
          "line": {
           "color": "black",
           "width": 2
          }
         },
         "opacity": 1,
         "r": [
          100
         ],
         "showlegend": false,
         "theta": [
          135
         ],
         "type": "barpolar",
         "width": [
          30
         ]
        },
        {
         "base": 0,
         "marker": {
          "color": "#AB63FA",
          "line": {
           "color": "black",
           "width": 2
          }
         },
         "opacity": 1,
         "r": [
          100
         ],
         "showlegend": false,
         "theta": [
          165
         ],
         "type": "barpolar",
         "width": [
          30
         ]
        },
        {
         "base": 0,
         "marker": {
          "color": "#FFA15A",
          "line": {
           "color": "black",
           "width": 2
          }
         },
         "opacity": 1,
         "r": [
          100
         ],
         "showlegend": false,
         "theta": [
          210
         ],
         "type": "barpolar",
         "width": [
          60
         ]
        },
        {
         "base": 0,
         "marker": {
          "color": "#00CC96",
          "line": {
           "color": "black",
           "width": 2
          }
         },
         "opacity": 1,
         "r": [
          100
         ],
         "showlegend": false,
         "theta": [
          255
         ],
         "type": "barpolar",
         "width": [
          30
         ]
        },
        {
         "base": 0,
         "marker": {
          "color": "white",
          "line": {
           "color": "black",
           "width": 2
          }
         },
         "opacity": 1,
         "r": [
          100
         ],
         "showlegend": false,
         "theta": [
          315
         ],
         "type": "barpolar",
         "width": [
          90
         ]
        },
        {
         "base": 0,
         "marker": {
          "color": "#EF553B",
          "line": {
           "color": "black",
           "width": 2
          }
         },
         "opacity": 1,
         "r": [
          80
         ],
         "showlegend": false,
         "theta": [
          15
         ],
         "type": "barpolar",
         "width": [
          30
         ]
        },
        {
         "base": 0,
         "marker": {
          "color": "#00CC96",
          "line": {
           "color": "black",
           "width": 2
          }
         },
         "opacity": 1,
         "r": [
          80
         ],
         "showlegend": false,
         "theta": [
          45
         ],
         "type": "barpolar",
         "width": [
          30
         ]
        },
        {
         "base": 0,
         "marker": {
          "color": "#DDDDDD",
          "line": {
           "color": "black",
           "width": 2
          }
         },
         "opacity": 1,
         "r": [
          80
         ],
         "showlegend": false,
         "theta": [
          90
         ],
         "type": "barpolar",
         "width": [
          60
         ]
        },
        {
         "base": 0,
         "marker": {
          "color": "#EF553B",
          "line": {
           "color": "black",
           "width": 2
          }
         },
         "opacity": 1,
         "r": [
          80
         ],
         "showlegend": false,
         "theta": [
          135
         ],
         "type": "barpolar",
         "width": [
          30
         ]
        },
        {
         "base": 0,
         "marker": {
          "color": "#AB63FA",
          "line": {
           "color": "black",
           "width": 2
          }
         },
         "opacity": 1,
         "r": [
          80
         ],
         "showlegend": false,
         "theta": [
          165
         ],
         "type": "barpolar",
         "width": [
          30
         ]
        },
        {
         "base": 0,
         "marker": {
          "color": "#FFA15A",
          "line": {
           "color": "black",
           "width": 2
          }
         },
         "opacity": 1,
         "r": [
          80
         ],
         "showlegend": false,
         "theta": [
          210
         ],
         "type": "barpolar",
         "width": [
          60
         ]
        },
        {
         "base": 0,
         "marker": {
          "color": "#00CC96",
          "line": {
           "color": "black",
           "width": 2
          }
         },
         "opacity": 1,
         "r": [
          80
         ],
         "showlegend": false,
         "theta": [
          255
         ],
         "type": "barpolar",
         "width": [
          30
         ]
        },
        {
         "base": 0,
         "marker": {
          "color": "white",
          "line": {
           "color": "black",
           "width": 2
          }
         },
         "opacity": 1,
         "r": [
          80
         ],
         "showlegend": false,
         "theta": [
          315
         ],
         "type": "barpolar",
         "width": [
          90
         ]
        }
       ],
       "layout": {
        "annotations": [
         {
          "arrowcolor": "#636EFA",
          "arrowhead": 2,
          "arrowside": "start",
          "arrowwidth": 2,
          "ax": 266.6666666666667,
          "ay": 0,
          "x": 0.5,
          "y": 0.5
         },
         {
          "arrowcolor": "#EF553B",
          "arrowhead": 2,
          "arrowside": "start",
          "arrowwidth": 2,
          "ax": 230.94010767585033,
          "ay": 133.33333333333331,
          "x": 0.5,
          "y": 0.5
         },
         {
          "arrowcolor": "#EF553B",
          "arrowhead": 2,
          "arrowside": "start",
          "arrowwidth": 2,
          "ax": -230.9401076758503,
          "ay": -133.33333333333337,
          "x": 0.5,
          "y": 0.5
         },
         {
          "arrowcolor": "#00CC96",
          "arrowhead": 2,
          "arrowside": "start",
          "arrowwidth": 2,
          "ax": 1.6328623988631378e-14,
          "ay": 266.6666666666667,
          "x": 0.5,
          "y": 0.5
         },
         {
          "arrowcolor": "#AB63FA",
          "arrowhead": 2,
          "arrowside": "start",
          "arrowwidth": 2,
          "ax": -266.6666666666667,
          "ay": 3.2657247977262757e-14,
          "x": 0.5,
          "y": 0.5
         }
        ],
        "autosize": false,
        "height": 600,
        "polar": {
         "angularaxis": {
          "tickmode": "array",
          "ticks": "",
          "ticktext": [
           0,
           1,
           2,
           3,
           4,
           5,
           6,
           7,
           8,
           9,
           10,
           11
          ],
          "tickvals": [
           0,
           30,
           60,
           90,
           120,
           150,
           180,
           210,
           240,
           270,
           300,
           330
          ]
         },
         "radialaxis": {
          "range": [
           0,
           100
          ],
          "showticklabels": false,
          "ticks": ""
         }
        },
        "template": {},
        "width": 600
       }
      }
     },
     "metadata": {},
     "output_type": "display_data"
    }
   ],
   "source": [
    "plot_polar(tasks, df_traces, 600, output_dir)"
   ]
  },
  {
   "cell_type": "code",
   "execution_count": 17,
   "metadata": {},
   "outputs": [
    {
     "name": "stdout",
     "output_type": "stream",
     "text": [
      "MoviePy - Building file outputs/example.gif with imageio.\n"
     ]
    },
    {
     "name": "stderr",
     "output_type": "stream",
     "text": [
      "                                                            \r"
     ]
    }
   ],
   "source": [
    "clip = mpy.ImageSequenceClip(output_dir, fps=1)\n",
    "clip.write_gif(f'outputs/{name}.gif')"
   ]
  },
  {
   "cell_type": "code",
   "execution_count": null,
   "metadata": {},
   "outputs": [],
   "source": []
  },
  {
   "cell_type": "code",
   "execution_count": null,
   "metadata": {},
   "outputs": [],
   "source": []
  },
  {
   "cell_type": "code",
   "execution_count": 91,
   "metadata": {},
   "outputs": [
    {
     "data": {
      "application/vnd.plotly.v1+json": {
       "config": {
        "plotlyServerURL": "https://plot.ly"
       },
       "data": [
        {
         "alignmentgroup": "True",
         "base": [
          0,
          4,
          12,
          16
         ],
         "hovertemplate": "id=1<br>start=%{base}<br>end=%{x}<br>task=%{y}<extra></extra>",
         "legendgroup": "1",
         "marker": {
          "color": "#636EFA",
          "line": {
           "color": "black",
           "width": 1
          },
          "opacity": 0.8
         },
         "name": "1",
         "offsetgroup": "1",
         "orientation": "h",
         "showlegend": true,
         "textposition": "auto",
         "type": "bar",
         "width": 0.5,
         "x": [
          1,
          1,
          1,
          1
         ],
         "xaxis": "x",
         "y": [
          1,
          1,
          1,
          1
         ],
         "yaxis": "y"
        },
        {
         "alignmentgroup": "True",
         "base": [
          1,
          8,
          13,
          20
         ],
         "hovertemplate": "id=2<br>start=%{base}<br>end=%{x}<br>task=%{y}<extra></extra>",
         "legendgroup": "2",
         "marker": {
          "color": "#EF553B",
          "line": {
           "color": "black",
           "width": 1
          },
          "opacity": 0.8
         },
         "name": "2",
         "offsetgroup": "2",
         "orientation": "h",
         "showlegend": true,
         "textposition": "auto",
         "type": "bar",
         "width": 0.5,
         "x": [
          1,
          1,
          1,
          1
         ],
         "xaxis": "x",
         "y": [
          2,
          2,
          2,
          2
         ],
         "yaxis": "y"
        },
        {
         "alignmentgroup": "True",
         "base": [
          2,
          14
         ],
         "hovertemplate": "id=0<br>start=%{base}<br>end=%{x}<br>task=%{y}<extra></extra>",
         "legendgroup": "0",
         "marker": {
          "color": "#DDDDDD",
          "line": {
           "color": "black",
           "width": 1
          },
          "opacity": 0.8
         },
         "name": "0",
         "offsetgroup": "0",
         "orientation": "h",
         "showlegend": false,
         "textposition": "auto",
         "type": "bar",
         "width": 0.5,
         "x": [
          2,
          2
         ],
         "xaxis": "x",
         "y": [
          1,
          1
         ],
         "yaxis": "y"
        },
        {
         "alignmentgroup": "True",
         "base": [
          5,
          17
         ],
         "hovertemplate": "id=3<br>start=%{base}<br>end=%{x}<br>task=%{y}<extra></extra>",
         "legendgroup": "3",
         "marker": {
          "color": "#00CC96",
          "line": {
           "color": "black",
           "width": 1
          },
          "opacity": 0.8
         },
         "name": "3",
         "offsetgroup": "3",
         "orientation": "h",
         "showlegend": true,
         "textposition": "auto",
         "type": "bar",
         "width": 0.5,
         "x": [
          1,
          1
         ],
         "xaxis": "x",
         "y": [
          3,
          3
         ],
         "yaxis": "y"
        },
        {
         "alignmentgroup": "True",
         "base": [
          6,
          18
         ],
         "hovertemplate": "id=4<br>start=%{base}<br>end=%{x}<br>task=%{y}<extra></extra>",
         "legendgroup": "4",
         "marker": {
          "color": "#AB63FA",
          "line": {
           "color": "black",
           "width": 1
          },
          "opacity": 0.8
         },
         "name": "4",
         "offsetgroup": "4",
         "orientation": "h",
         "showlegend": true,
         "textposition": "auto",
         "type": "bar",
         "width": 0.5,
         "x": [
          2,
          2
         ],
         "xaxis": "x",
         "y": [
          4,
          4
         ],
         "yaxis": "y"
        }
       ],
       "layout": {
        "annotations": [
         {
          "arrowcolor": "#636EFA",
          "arrowhead": 2,
          "arrowwidth": 2,
          "ax": 0,
          "axref": "x",
          "ay": 2.65,
          "ayref": "y",
          "showarrow": true,
          "x": 0,
          "y": 3.5
         },
         {
          "arrowcolor": "#636EFA",
          "arrowhead": 2,
          "arrowwidth": 2,
          "ax": 12,
          "axref": "x",
          "ay": 2.65,
          "ayref": "y",
          "showarrow": true,
          "x": 12,
          "y": 3.5
         },
         {
          "arrowcolor": "#EF553B",
          "arrowhead": 2,
          "arrowwidth": 2,
          "ax": 1,
          "axref": "x",
          "ay": 1.65,
          "ayref": "y",
          "showarrow": true,
          "x": 1,
          "y": 2.5
         },
         {
          "arrowcolor": "#EF553B",
          "arrowhead": 2,
          "arrowwidth": 2,
          "ax": 7,
          "axref": "x",
          "ay": 1.65,
          "ayref": "y",
          "showarrow": true,
          "x": 7,
          "y": 2.5
         },
         {
          "arrowcolor": "#EF553B",
          "arrowhead": 2,
          "arrowwidth": 2,
          "ax": 13,
          "axref": "x",
          "ay": 1.65,
          "ayref": "y",
          "showarrow": true,
          "x": 13,
          "y": 2.5
         },
         {
          "arrowcolor": "#00CC96",
          "arrowhead": 2,
          "arrowwidth": 2,
          "ax": 3,
          "axref": "x",
          "ay": 0.65,
          "ayref": "y",
          "showarrow": true,
          "x": 3,
          "y": 1.5
         },
         {
          "arrowcolor": "#00CC96",
          "arrowhead": 2,
          "arrowwidth": 2,
          "ax": 15,
          "axref": "x",
          "ay": 0.65,
          "ayref": "y",
          "showarrow": true,
          "x": 15,
          "y": 1.5
         },
         {
          "arrowcolor": "#AB63FA",
          "arrowhead": 2,
          "arrowwidth": 2,
          "ax": 6,
          "axref": "x",
          "ay": -0.35,
          "ayref": "y",
          "showarrow": true,
          "x": 6,
          "y": 0.5
         },
         {
          "arrowcolor": "#AB63FA",
          "arrowhead": 2,
          "arrowwidth": 2,
          "ax": 18,
          "axref": "x",
          "ay": -0.35,
          "ayref": "y",
          "showarrow": true,
          "x": 18,
          "y": 0.5
         }
        ],
        "barmode": "overlay",
        "legend": {
         "title": {
          "text": "id"
         },
         "tracegroupgap": 0
        },
        "margin": {
         "t": 60
        },
        "shapes": [
         {
          "type": "line",
          "x0": 0,
          "x1": 1,
          "xref": "x domain",
          "y0": -0.25,
          "y1": -0.25,
          "yref": "y"
         },
         {
          "fillcolor": "#636EFA",
          "line": {
           "color": "#636EFA"
          },
          "type": "circle",
          "x0": 12,
          "x1": 12.25,
          "xref": "x",
          "y0": 2.7,
          "y1": 2.8,
          "yref": "y"
         },
         {
          "type": "line",
          "x0": 0,
          "x1": 1,
          "xref": "x domain",
          "y0": 0.75,
          "y1": 0.75,
          "yref": "y"
         },
         {
          "fillcolor": "#EF553B",
          "line": {
           "color": "#EF553B"
          },
          "type": "circle",
          "x0": 7,
          "x1": 7.25,
          "xref": "x",
          "y0": 1.7,
          "y1": 1.8,
          "yref": "y"
         },
         {
          "fillcolor": "#EF553B",
          "line": {
           "color": "#EF553B"
          },
          "type": "circle",
          "x0": 13,
          "x1": 13.25,
          "xref": "x",
          "y0": 1.7,
          "y1": 1.8,
          "yref": "y"
         },
         {
          "type": "line",
          "x0": 0,
          "x1": 1,
          "xref": "x domain",
          "y0": 1.75,
          "y1": 1.75,
          "yref": "y"
         },
         {
          "fillcolor": "#00CC96",
          "line": {
           "color": "#00CC96"
          },
          "type": "circle",
          "x0": 11,
          "x1": 11.25,
          "xref": "x",
          "y0": 0.7,
          "y1": 0.8,
          "yref": "y"
         },
         {
          "type": "line",
          "x0": 0,
          "x1": 1,
          "xref": "x domain",
          "y0": 2.75,
          "y1": 2.75,
          "yref": "y"
         },
         {
          "fillcolor": "#AB63FA",
          "line": {
           "color": "#AB63FA"
          },
          "type": "circle",
          "x0": 9,
          "x1": 9.25,
          "xref": "x",
          "y0": -0.3,
          "y1": -0.2,
          "yref": "y"
         }
        ],
        "template": {
         "data": {
          "bar": [
           {
            "error_x": {
             "color": "#2a3f5f"
            },
            "error_y": {
             "color": "#2a3f5f"
            },
            "marker": {
             "line": {
              "color": "#E5ECF6",
              "width": 0.5
             },
             "pattern": {
              "fillmode": "overlay",
              "size": 10,
              "solidity": 0.2
             }
            },
            "type": "bar"
           }
          ],
          "barpolar": [
           {
            "marker": {
             "line": {
              "color": "#E5ECF6",
              "width": 0.5
             },
             "pattern": {
              "fillmode": "overlay",
              "size": 10,
              "solidity": 0.2
             }
            },
            "type": "barpolar"
           }
          ],
          "carpet": [
           {
            "aaxis": {
             "endlinecolor": "#2a3f5f",
             "gridcolor": "white",
             "linecolor": "white",
             "minorgridcolor": "white",
             "startlinecolor": "#2a3f5f"
            },
            "baxis": {
             "endlinecolor": "#2a3f5f",
             "gridcolor": "white",
             "linecolor": "white",
             "minorgridcolor": "white",
             "startlinecolor": "#2a3f5f"
            },
            "type": "carpet"
           }
          ],
          "choropleth": [
           {
            "colorbar": {
             "outlinewidth": 0,
             "ticks": ""
            },
            "type": "choropleth"
           }
          ],
          "contour": [
           {
            "colorbar": {
             "outlinewidth": 0,
             "ticks": ""
            },
            "colorscale": [
             [
              0,
              "#0d0887"
             ],
             [
              0.1111111111111111,
              "#46039f"
             ],
             [
              0.2222222222222222,
              "#7201a8"
             ],
             [
              0.3333333333333333,
              "#9c179e"
             ],
             [
              0.4444444444444444,
              "#bd3786"
             ],
             [
              0.5555555555555556,
              "#d8576b"
             ],
             [
              0.6666666666666666,
              "#ed7953"
             ],
             [
              0.7777777777777778,
              "#fb9f3a"
             ],
             [
              0.8888888888888888,
              "#fdca26"
             ],
             [
              1,
              "#f0f921"
             ]
            ],
            "type": "contour"
           }
          ],
          "contourcarpet": [
           {
            "colorbar": {
             "outlinewidth": 0,
             "ticks": ""
            },
            "type": "contourcarpet"
           }
          ],
          "heatmap": [
           {
            "colorbar": {
             "outlinewidth": 0,
             "ticks": ""
            },
            "colorscale": [
             [
              0,
              "#0d0887"
             ],
             [
              0.1111111111111111,
              "#46039f"
             ],
             [
              0.2222222222222222,
              "#7201a8"
             ],
             [
              0.3333333333333333,
              "#9c179e"
             ],
             [
              0.4444444444444444,
              "#bd3786"
             ],
             [
              0.5555555555555556,
              "#d8576b"
             ],
             [
              0.6666666666666666,
              "#ed7953"
             ],
             [
              0.7777777777777778,
              "#fb9f3a"
             ],
             [
              0.8888888888888888,
              "#fdca26"
             ],
             [
              1,
              "#f0f921"
             ]
            ],
            "type": "heatmap"
           }
          ],
          "heatmapgl": [
           {
            "colorbar": {
             "outlinewidth": 0,
             "ticks": ""
            },
            "colorscale": [
             [
              0,
              "#0d0887"
             ],
             [
              0.1111111111111111,
              "#46039f"
             ],
             [
              0.2222222222222222,
              "#7201a8"
             ],
             [
              0.3333333333333333,
              "#9c179e"
             ],
             [
              0.4444444444444444,
              "#bd3786"
             ],
             [
              0.5555555555555556,
              "#d8576b"
             ],
             [
              0.6666666666666666,
              "#ed7953"
             ],
             [
              0.7777777777777778,
              "#fb9f3a"
             ],
             [
              0.8888888888888888,
              "#fdca26"
             ],
             [
              1,
              "#f0f921"
             ]
            ],
            "type": "heatmapgl"
           }
          ],
          "histogram": [
           {
            "marker": {
             "pattern": {
              "fillmode": "overlay",
              "size": 10,
              "solidity": 0.2
             }
            },
            "type": "histogram"
           }
          ],
          "histogram2d": [
           {
            "colorbar": {
             "outlinewidth": 0,
             "ticks": ""
            },
            "colorscale": [
             [
              0,
              "#0d0887"
             ],
             [
              0.1111111111111111,
              "#46039f"
             ],
             [
              0.2222222222222222,
              "#7201a8"
             ],
             [
              0.3333333333333333,
              "#9c179e"
             ],
             [
              0.4444444444444444,
              "#bd3786"
             ],
             [
              0.5555555555555556,
              "#d8576b"
             ],
             [
              0.6666666666666666,
              "#ed7953"
             ],
             [
              0.7777777777777778,
              "#fb9f3a"
             ],
             [
              0.8888888888888888,
              "#fdca26"
             ],
             [
              1,
              "#f0f921"
             ]
            ],
            "type": "histogram2d"
           }
          ],
          "histogram2dcontour": [
           {
            "colorbar": {
             "outlinewidth": 0,
             "ticks": ""
            },
            "colorscale": [
             [
              0,
              "#0d0887"
             ],
             [
              0.1111111111111111,
              "#46039f"
             ],
             [
              0.2222222222222222,
              "#7201a8"
             ],
             [
              0.3333333333333333,
              "#9c179e"
             ],
             [
              0.4444444444444444,
              "#bd3786"
             ],
             [
              0.5555555555555556,
              "#d8576b"
             ],
             [
              0.6666666666666666,
              "#ed7953"
             ],
             [
              0.7777777777777778,
              "#fb9f3a"
             ],
             [
              0.8888888888888888,
              "#fdca26"
             ],
             [
              1,
              "#f0f921"
             ]
            ],
            "type": "histogram2dcontour"
           }
          ],
          "mesh3d": [
           {
            "colorbar": {
             "outlinewidth": 0,
             "ticks": ""
            },
            "type": "mesh3d"
           }
          ],
          "parcoords": [
           {
            "line": {
             "colorbar": {
              "outlinewidth": 0,
              "ticks": ""
             }
            },
            "type": "parcoords"
           }
          ],
          "pie": [
           {
            "automargin": true,
            "type": "pie"
           }
          ],
          "scatter": [
           {
            "marker": {
             "colorbar": {
              "outlinewidth": 0,
              "ticks": ""
             }
            },
            "type": "scatter"
           }
          ],
          "scatter3d": [
           {
            "line": {
             "colorbar": {
              "outlinewidth": 0,
              "ticks": ""
             }
            },
            "marker": {
             "colorbar": {
              "outlinewidth": 0,
              "ticks": ""
             }
            },
            "type": "scatter3d"
           }
          ],
          "scattercarpet": [
           {
            "marker": {
             "colorbar": {
              "outlinewidth": 0,
              "ticks": ""
             }
            },
            "type": "scattercarpet"
           }
          ],
          "scattergeo": [
           {
            "marker": {
             "colorbar": {
              "outlinewidth": 0,
              "ticks": ""
             }
            },
            "type": "scattergeo"
           }
          ],
          "scattergl": [
           {
            "marker": {
             "colorbar": {
              "outlinewidth": 0,
              "ticks": ""
             }
            },
            "type": "scattergl"
           }
          ],
          "scattermapbox": [
           {
            "marker": {
             "colorbar": {
              "outlinewidth": 0,
              "ticks": ""
             }
            },
            "type": "scattermapbox"
           }
          ],
          "scatterpolar": [
           {
            "marker": {
             "colorbar": {
              "outlinewidth": 0,
              "ticks": ""
             }
            },
            "type": "scatterpolar"
           }
          ],
          "scatterpolargl": [
           {
            "marker": {
             "colorbar": {
              "outlinewidth": 0,
              "ticks": ""
             }
            },
            "type": "scatterpolargl"
           }
          ],
          "scatterternary": [
           {
            "marker": {
             "colorbar": {
              "outlinewidth": 0,
              "ticks": ""
             }
            },
            "type": "scatterternary"
           }
          ],
          "surface": [
           {
            "colorbar": {
             "outlinewidth": 0,
             "ticks": ""
            },
            "colorscale": [
             [
              0,
              "#0d0887"
             ],
             [
              0.1111111111111111,
              "#46039f"
             ],
             [
              0.2222222222222222,
              "#7201a8"
             ],
             [
              0.3333333333333333,
              "#9c179e"
             ],
             [
              0.4444444444444444,
              "#bd3786"
             ],
             [
              0.5555555555555556,
              "#d8576b"
             ],
             [
              0.6666666666666666,
              "#ed7953"
             ],
             [
              0.7777777777777778,
              "#fb9f3a"
             ],
             [
              0.8888888888888888,
              "#fdca26"
             ],
             [
              1,
              "#f0f921"
             ]
            ],
            "type": "surface"
           }
          ],
          "table": [
           {
            "cells": {
             "fill": {
              "color": "#EBF0F8"
             },
             "line": {
              "color": "white"
             }
            },
            "header": {
             "fill": {
              "color": "#C8D4E3"
             },
             "line": {
              "color": "white"
             }
            },
            "type": "table"
           }
          ]
         },
         "layout": {
          "annotationdefaults": {
           "arrowcolor": "#2a3f5f",
           "arrowhead": 0,
           "arrowwidth": 1
          },
          "autotypenumbers": "strict",
          "coloraxis": {
           "colorbar": {
            "outlinewidth": 0,
            "ticks": ""
           }
          },
          "colorscale": {
           "diverging": [
            [
             0,
             "#8e0152"
            ],
            [
             0.1,
             "#c51b7d"
            ],
            [
             0.2,
             "#de77ae"
            ],
            [
             0.3,
             "#f1b6da"
            ],
            [
             0.4,
             "#fde0ef"
            ],
            [
             0.5,
             "#f7f7f7"
            ],
            [
             0.6,
             "#e6f5d0"
            ],
            [
             0.7,
             "#b8e186"
            ],
            [
             0.8,
             "#7fbc41"
            ],
            [
             0.9,
             "#4d9221"
            ],
            [
             1,
             "#276419"
            ]
           ],
           "sequential": [
            [
             0,
             "#0d0887"
            ],
            [
             0.1111111111111111,
             "#46039f"
            ],
            [
             0.2222222222222222,
             "#7201a8"
            ],
            [
             0.3333333333333333,
             "#9c179e"
            ],
            [
             0.4444444444444444,
             "#bd3786"
            ],
            [
             0.5555555555555556,
             "#d8576b"
            ],
            [
             0.6666666666666666,
             "#ed7953"
            ],
            [
             0.7777777777777778,
             "#fb9f3a"
            ],
            [
             0.8888888888888888,
             "#fdca26"
            ],
            [
             1,
             "#f0f921"
            ]
           ],
           "sequentialminus": [
            [
             0,
             "#0d0887"
            ],
            [
             0.1111111111111111,
             "#46039f"
            ],
            [
             0.2222222222222222,
             "#7201a8"
            ],
            [
             0.3333333333333333,
             "#9c179e"
            ],
            [
             0.4444444444444444,
             "#bd3786"
            ],
            [
             0.5555555555555556,
             "#d8576b"
            ],
            [
             0.6666666666666666,
             "#ed7953"
            ],
            [
             0.7777777777777778,
             "#fb9f3a"
            ],
            [
             0.8888888888888888,
             "#fdca26"
            ],
            [
             1,
             "#f0f921"
            ]
           ]
          },
          "colorway": [
           "#636efa",
           "#EF553B",
           "#00cc96",
           "#ab63fa",
           "#FFA15A",
           "#19d3f3",
           "#FF6692",
           "#B6E880",
           "#FF97FF",
           "#FECB52"
          ],
          "font": {
           "color": "#2a3f5f"
          },
          "geo": {
           "bgcolor": "white",
           "lakecolor": "white",
           "landcolor": "#E5ECF6",
           "showlakes": true,
           "showland": true,
           "subunitcolor": "white"
          },
          "hoverlabel": {
           "align": "left"
          },
          "hovermode": "closest",
          "mapbox": {
           "style": "light"
          },
          "paper_bgcolor": "white",
          "plot_bgcolor": "#E5ECF6",
          "polar": {
           "angularaxis": {
            "gridcolor": "white",
            "linecolor": "white",
            "ticks": ""
           },
           "bgcolor": "#E5ECF6",
           "radialaxis": {
            "gridcolor": "white",
            "linecolor": "white",
            "ticks": ""
           }
          },
          "scene": {
           "xaxis": {
            "backgroundcolor": "#E5ECF6",
            "gridcolor": "white",
            "gridwidth": 2,
            "linecolor": "white",
            "showbackground": true,
            "ticks": "",
            "zerolinecolor": "white"
           },
           "yaxis": {
            "backgroundcolor": "#E5ECF6",
            "gridcolor": "white",
            "gridwidth": 2,
            "linecolor": "white",
            "showbackground": true,
            "ticks": "",
            "zerolinecolor": "white"
           },
           "zaxis": {
            "backgroundcolor": "#E5ECF6",
            "gridcolor": "white",
            "gridwidth": 2,
            "linecolor": "white",
            "showbackground": true,
            "ticks": "",
            "zerolinecolor": "white"
           }
          },
          "shapedefaults": {
           "line": {
            "color": "#2a3f5f"
           }
          },
          "ternary": {
           "aaxis": {
            "gridcolor": "white",
            "linecolor": "white",
            "ticks": ""
           },
           "baxis": {
            "gridcolor": "white",
            "linecolor": "white",
            "ticks": ""
           },
           "bgcolor": "#E5ECF6",
           "caxis": {
            "gridcolor": "white",
            "linecolor": "white",
            "ticks": ""
           }
          },
          "title": {
           "x": 0.05
          },
          "xaxis": {
           "automargin": true,
           "gridcolor": "white",
           "linecolor": "white",
           "ticks": "",
           "title": {
            "standoff": 15
           },
           "zerolinecolor": "white",
           "zerolinewidth": 2
          },
          "yaxis": {
           "automargin": true,
           "gridcolor": "white",
           "linecolor": "white",
           "ticks": "",
           "title": {
            "standoff": 15
           },
           "zerolinecolor": "white",
           "zerolinewidth": 2
          }
         }
        },
        "xaxis": {
         "anchor": "y",
         "domain": [
          0,
          1
         ],
         "type": "linear"
        },
        "yaxis": {
         "anchor": "x",
         "categoryorder": "category descending",
         "domain": [
          0,
          1
         ],
         "title": {
          "text": "task"
         },
         "type": "category"
        }
       }
      }
     },
     "metadata": {},
     "output_type": "display_data"
    }
   ],
   "source": [
    "plot_gantt(tasks, df_traces)"
   ]
  },
  {
   "cell_type": "code",
   "execution_count": null,
   "metadata": {},
   "outputs": [],
   "source": []
  },
  {
   "cell_type": "code",
   "execution_count": null,
   "metadata": {},
   "outputs": [],
   "source": []
  },
  {
   "cell_type": "code",
   "execution_count": null,
   "metadata": {},
   "outputs": [],
   "source": []
  },
  {
   "cell_type": "code",
   "execution_count": null,
   "metadata": {},
   "outputs": [],
   "source": []
  },
  {
   "cell_type": "code",
   "execution_count": null,
   "metadata": {},
   "outputs": [],
   "source": []
  },
  {
   "cell_type": "code",
   "execution_count": null,
   "metadata": {},
   "outputs": [],
   "source": []
  }
 ],
 "metadata": {
  "kernelspec": {
   "display_name": "Python 3.9.0 ('rllib')",
   "language": "python",
   "name": "python3"
  },
  "language_info": {
   "codemirror_mode": {
    "name": "ipython",
    "version": 3
   },
   "file_extension": ".py",
   "mimetype": "text/x-python",
   "name": "python",
   "nbconvert_exporter": "python",
   "pygments_lexer": "ipython3",
   "version": "3.9.0"
  },
  "orig_nbformat": 4,
  "vscode": {
   "interpreter": {
    "hash": "12d644bfd6a40dbe518adab11d6c05edd9a4e0828820d5bd25e9fd02b594de02"
   }
  }
 },
 "nbformat": 4,
 "nbformat_minor": 2
}
