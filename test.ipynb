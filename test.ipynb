{
 "cells": [
  {
   "cell_type": "code",
   "execution_count": 1,
   "metadata": {},
   "outputs": [],
   "source": [
    "from collections import namedtuple\n",
    "\n",
    "import numpy as np\n",
    "import pandas as pd\n",
    "\n",
    "import plotly.express as px\n",
    "import plotly.graph_objects as go\n",
    "from plotly.subplots import make_subplots\n"
   ]
  },
  {
   "cell_type": "code",
   "execution_count": 2,
   "metadata": {},
   "outputs": [],
   "source": [
    "COLORS = px.colors.qualitative.Alphabet"
   ]
  },
  {
   "cell_type": "code",
   "execution_count": 3,
   "metadata": {},
   "outputs": [],
   "source": [
    "class Task:\n",
    "    Parameters = namedtuple('Parameters', 'O C D T A')\n",
    "\n",
    "    def __init__(self, parameters) -> None:\n",
    "        self.parameters = parameters\n",
    "\n",
    "    def __str__(self) -> str:\n",
    "        return str(self.parameters)\n"
   ]
  },
  {
   "cell_type": "code",
   "execution_count": 4,
   "metadata": {},
   "outputs": [],
   "source": [
    "def read_tasks(filename):\n",
    "    tasks = []\n",
    "\n",
    "    with open(filename) as fp:\n",
    "        n = fp.readline()\n",
    "        n = int(n)\n",
    "\n",
    "        for i in range(n):\n",
    "            line = fp.readline()\n",
    "            line = line.strip()\n",
    "            params = [int(v) for v in line.split()]\n",
    "\n",
    "            task = Task( Task.Parameters(*params) )\n",
    "            tasks.append(task)\n",
    "\n",
    "    return tasks"
   ]
  },
  {
   "cell_type": "code",
   "execution_count": 5,
   "metadata": {},
   "outputs": [],
   "source": [
    "def read_traces(filename):\n",
    "    traces = []\n",
    "\n",
    "    with open(filename) as fp:\n",
    "        traces = fp.read()\n",
    "        traces = traces.split()\n",
    "\n",
    "    traces = np.array(traces)\n",
    "    return traces.astype(int)"
   ]
  },
  {
   "cell_type": "code",
   "execution_count": 6,
   "metadata": {},
   "outputs": [],
   "source": [
    "def compute_H(tasks):\n",
    "    periods = [task.parameters.T for task in tasks]\n",
    "    H = (periods and np.lcm.reduce(periods)) or 0\n",
    "    return H"
   ]
  },
  {
   "cell_type": "code",
   "execution_count": 7,
   "metadata": {},
   "outputs": [],
   "source": [
    "def summarize_tasks(tasks):\n",
    "    n = len(tasks)\n",
    "    H = compute_H(tasks)\n",
    "    theta_per_tick = 360 / H\n",
    "    return n, H, theta_per_tick"
   ]
  },
  {
   "cell_type": "code",
   "execution_count": 8,
   "metadata": {},
   "outputs": [],
   "source": [
    "def get_ticks(task, H, for_deadlines=False):\n",
    "    ticks = []\n",
    "    offset = task.parameters.O\n",
    "    upper = H\n",
    "    if for_deadlines:\n",
    "        offset += task.parameters.D\n",
    "        upper += task.parameters.D\n",
    "\n",
    "    ticks = np.array( range(offset, upper, task.parameters.T) )\n",
    "    return ticks % H"
   ]
  },
  {
   "cell_type": "code",
   "execution_count": 9,
   "metadata": {},
   "outputs": [],
   "source": [
    "def plot_events(i, ticks, theta_per_tick, r=60, symbol=None, size=20):\n",
    "    r = [r] * ticks.size\n",
    "    theta = ticks * theta_per_tick\n",
    "    scatter = go.Scatterpolar(r=r, theta=theta, mode='markers', showlegend=False,\n",
    "                            marker=dict(color=COLORS[i], symbol=symbol, size=20) )\n",
    "\n",
    "    return scatter"
   ]
  },
  {
   "cell_type": "code",
   "execution_count": 10,
   "metadata": {},
   "outputs": [],
   "source": [
    "def plot_task_events(i, task, H, for_deadlines=False):\n",
    "    theta_per_tick = 360 / H\n",
    "    symbol = 'circle-x'\n",
    "    r = 60\n",
    "    \n",
    "    if for_deadlines:\n",
    "        symbol = 'star-diamond'\n",
    "        r = 50\n",
    "\n",
    "    ticks = get_ticks(task, H, for_deadlines=for_deadlines)\n",
    "    scatter = plot_events(i, ticks, theta_per_tick, r, symbol)\n",
    "    return scatter"
   ]
  },
  {
   "cell_type": "code",
   "execution_count": 27,
   "metadata": {},
   "outputs": [],
   "source": [
    "def plot_trace(_id, traces, H):\n",
    "    trace = np.where(traces[:H] == _id) [0]\n",
    "    theta_per_tick = 360 / H\n",
    "    r = [50] * trace.size\n",
    "    theta = ((trace + 0.5) % H) * theta_per_tick\n",
    "\n",
    "    bar = go.Barpolar(r=r, theta=theta, width=theta_per_tick, name=f'Task {_id}',\n",
    "                    marker=dict(color=COLORS[_id-1], line_width=0.2, line_color='white'), \n",
    "                    opacity=0.8)\n",
    "\n",
    "    return bar"
   ]
  },
  {
   "cell_type": "code",
   "execution_count": 28,
   "metadata": {},
   "outputs": [],
   "source": [
    "tasks = read_tasks('data/example1.txt')\n",
    "traces = read_traces('data/trace1.txt')"
   ]
  },
  {
   "cell_type": "code",
   "execution_count": 29,
   "metadata": {},
   "outputs": [],
   "source": [
    "H = compute_H(tasks)\n",
    "ticks = np.arange(H)"
   ]
  },
  {
   "cell_type": "code",
   "execution_count": 30,
   "metadata": {},
   "outputs": [
    {
     "data": {
      "application/vnd.plotly.v1+json": {
       "config": {
        "plotlyServerURL": "https://plot.ly"
       },
       "data": [
        {
         "marker": {
          "color": "#AA0DFE",
          "size": 20,
          "symbol": "circle-x"
         },
         "mode": "markers",
         "r": [
          60,
          60,
          60,
          60,
          60,
          60
         ],
         "showlegend": false,
         "theta": [
          40,
          100,
          160,
          220,
          280,
          340
         ],
         "type": "scatterpolar"
        },
        {
         "marker": {
          "color": "#AA0DFE",
          "size": 20,
          "symbol": "star-diamond"
         },
         "mode": "markers",
         "r": [
          50,
          50,
          50,
          50,
          50,
          50
         ],
         "showlegend": false,
         "theta": [
          80,
          140,
          200,
          260,
          320,
          20
         ],
         "type": "scatterpolar"
        },
        {
         "marker": {
          "color": "#AA0DFE",
          "line": {
           "color": "white",
           "width": 0.2
          }
         },
         "name": "Task 1",
         "opacity": 0.8,
         "r": [
          50,
          50,
          50,
          50,
          50,
          50
         ],
         "theta": [
          50,
          110,
          190,
          230,
          290,
          350
         ],
         "type": "barpolar",
         "width": 20
        },
        {
         "marker": {
          "color": "#3283FE",
          "size": 20,
          "symbol": "circle-x"
         },
         "mode": "markers",
         "r": [
          60,
          60,
          60
         ],
         "showlegend": false,
         "theta": [
          20,
          140,
          260
         ],
         "type": "scatterpolar"
        },
        {
         "marker": {
          "color": "#3283FE",
          "size": 20,
          "symbol": "star-diamond"
         },
         "mode": "markers",
         "r": [
          50,
          50,
          50
         ],
         "showlegend": false,
         "theta": [
          120,
          240,
          0
         ],
         "type": "scatterpolar"
        },
        {
         "marker": {
          "color": "#3283FE",
          "line": {
           "color": "white",
           "width": 0.2
          }
         },
         "name": "Task 2",
         "opacity": 0.8,
         "r": [
          50,
          50,
          50
         ],
         "theta": [
          30,
          210,
          310
         ],
         "type": "barpolar",
         "width": 20
        },
        {
         "marker": {
          "color": "#85660D",
          "size": 20,
          "symbol": "circle-x"
         },
         "mode": "markers",
         "r": [
          60,
          60
         ],
         "showlegend": false,
         "theta": [
          0,
          180
         ],
         "type": "scatterpolar"
        },
        {
         "marker": {
          "color": "#85660D",
          "size": 20,
          "symbol": "star-diamond"
         },
         "mode": "markers",
         "r": [
          50,
          50
         ],
         "showlegend": false,
         "theta": [
          180,
          0
         ],
         "type": "scatterpolar"
        },
        {
         "marker": {
          "color": "#85660D",
          "line": {
           "color": "white",
           "width": 0.2
          }
         },
         "name": "Task 3",
         "opacity": 0.8,
         "r": [
          50,
          50,
          50,
          50
         ],
         "theta": [
          10,
          170,
          250,
          270
         ],
         "type": "barpolar",
         "width": 20
        },
        {
         "marker": {
          "color": "#FA0087",
          "line": {
           "color": "white",
           "width": 0.2
          }
         },
         "name": "Task 0",
         "opacity": 0.8,
         "r": [
          50,
          50,
          50,
          50
         ],
         "theta": [
          70,
          90,
          130,
          150
         ],
         "type": "barpolar",
         "width": 20
        }
       ],
       "layout": {
        "autosize": false,
        "height": 800,
        "polar": {
         "angularaxis": {
          "tickmode": "array",
          "ticks": "outside",
          "ticktext": [
           0,
           1,
           2,
           3,
           4,
           5,
           6,
           7,
           8,
           9,
           10,
           11,
           12,
           13,
           14,
           15,
           16,
           17
          ],
          "tickvals": [
           0,
           20,
           40,
           60,
           80,
           100,
           120,
           140,
           160,
           180,
           200,
           220,
           240,
           260,
           280,
           300,
           320,
           340
          ]
         },
         "radialaxis": {
          "showticklabels": false,
          "ticks": ""
         }
        },
        "template": {},
        "width": 800
       }
      }
     },
     "metadata": {},
     "output_type": "display_data"
    }
   ],
   "source": [
    "fig = go.Figure()\n",
    "\n",
    "for i, task in enumerate(tasks[:]):\n",
    "    scatter_releases = plot_task_events(i, task, H)\n",
    "    scatter_deadlines = plot_task_events(i, task, H, for_deadlines=True)\n",
    "\n",
    "    bar = plot_trace(i+1, traces, H)\n",
    "\n",
    "    fig.add_trace(scatter_releases)\n",
    "    fig.add_trace(scatter_deadlines)\n",
    "    fig.add_trace(bar)\n",
    "\n",
    "# Add cost trace\n",
    "bar = plot_trace(0, traces, H)\n",
    "fig.add_trace(bar)\n",
    "\n",
    "fig.update_layout(template=None, autosize=False, width=800, height=800,\n",
    "                polar=dict(angularaxis= dict(ticks='outside', tickmode='array', \n",
    "                                            tickvals=ticks * (360 / H), ticktext=ticks),\n",
    "                        radialaxis = dict(showticklabels=False, ticks='') ) )\n",
    "\n",
    "fig.show()"
   ]
  },
  {
   "cell_type": "code",
   "execution_count": null,
   "metadata": {},
   "outputs": [],
   "source": []
  },
  {
   "cell_type": "code",
   "execution_count": null,
   "metadata": {},
   "outputs": [],
   "source": []
  },
  {
   "cell_type": "code",
   "execution_count": null,
   "metadata": {},
   "outputs": [],
   "source": []
  },
  {
   "cell_type": "code",
   "execution_count": null,
   "metadata": {},
   "outputs": [],
   "source": []
  },
  {
   "cell_type": "code",
   "execution_count": null,
   "metadata": {},
   "outputs": [],
   "source": []
  },
  {
   "cell_type": "code",
   "execution_count": null,
   "metadata": {},
   "outputs": [],
   "source": []
  }
 ],
 "metadata": {
  "kernelspec": {
   "display_name": "Python 3.9.0 ('rllib')",
   "language": "python",
   "name": "python3"
  },
  "language_info": {
   "codemirror_mode": {
    "name": "ipython",
    "version": 3
   },
   "file_extension": ".py",
   "mimetype": "text/x-python",
   "name": "python",
   "nbconvert_exporter": "python",
   "pygments_lexer": "ipython3",
   "version": "3.9.0"
  },
  "orig_nbformat": 4,
  "vscode": {
   "interpreter": {
    "hash": "12d644bfd6a40dbe518adab11d6c05edd9a4e0828820d5bd25e9fd02b594de02"
   }
  }
 },
 "nbformat": 4,
 "nbformat_minor": 2
}
