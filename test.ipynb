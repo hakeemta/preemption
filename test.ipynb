{
 "cells": [
  {
   "cell_type": "code",
   "execution_count": 1,
   "metadata": {},
   "outputs": [],
   "source": [
    "import pathlib\n",
    "import numpy as np\n",
    "import pandas as pd\n",
    "\n",
    "from utils import *\n",
    "from viz import *\n",
    "from task_system import TaskSystem\n",
    "from policies.edf import EDF\n",
    "from policies.fjp import FJP\n",
    "\n",
    "import plotly.express as px\n",
    "import plotly.graph_objects as go\n",
    "\n",
    "import os\n",
    "os.environ[\"IMAGEIO_FFMPEG_EXE\"] = '/Users/abdulhakeemabdulrahman/homebrew/bin/ffmpeg'\n",
    "\n",
    "import  moviepy.editor as mpy\n",
    "import io \n",
    "from PIL import Image"
   ]
  },
  {
   "cell_type": "code",
   "execution_count": 2,
   "metadata": {},
   "outputs": [],
   "source": [
    "%load_ext autoreload\n",
    "%autoreload 2"
   ]
  },
  {
   "cell_type": "code",
   "execution_count": 3,
   "metadata": {},
   "outputs": [],
   "source": [
    "def run(filename, out_filename, policy, atomic=False, steps=None):\n",
    "    sys = TaskSystem()\n",
    "    sys.load_tasks(filename=filename)\n",
    "\n",
    "    if steps is None:\n",
    "        steps = 4 * sys.L\n",
    "\n",
    "    lines = []\n",
    "    for t in range(1, steps+1):\n",
    "        index = policy(sys.tasks, atomic=atomic)\n",
    "        # print(t, index)\n",
    "        sys.step(index)\n",
    "\n",
    "        n_repeats = t // sys.L\n",
    "        if (t % sys.L == 0) and (n_repeats > 0):\n",
    "            start = (n_repeats - 1) * sys.L\n",
    "            line = sys.trace[start: (start + sys.L)]\n",
    "            \n",
    "            if n_repeats > 1 and line == lines[0]:            \n",
    "                break\n",
    "\n",
    "            lines.append(line)\n",
    "        \n",
    "    with open(out_filename, 'w') as fp:\n",
    "        for line in lines:\n",
    "            line = [str(i) for i in line]\n",
    "            line = ' '.join(line)\n",
    "            fp.writelines(line + '\\n')\n",
    "\n",
    "    return out_filename\n",
    "        "
   ]
  },
  {
   "cell_type": "code",
   "execution_count": 4,
   "metadata": {},
   "outputs": [],
   "source": [
    "filename_set = f'data/example1.txt'\n",
    "\n",
    "name = 'edf_fifo_non_preemptive_example1'\n",
    "filename_trace = f'data/trace_{name}.txt'\n",
    "\n",
    "output_dir = f'outputs/{name}'\n",
    "pathlib.Path(output_dir).mkdir(parents=True, exist_ok=True)"
   ]
  },
  {
   "cell_type": "code",
   "execution_count": 5,
   "metadata": {},
   "outputs": [],
   "source": [
    "# priorities = [1, 2, 3, 4]\n",
    "# policy = FJP(priorities)\n",
    "\n",
    "policy = EDF(fifo=True)"
   ]
  },
  {
   "cell_type": "code",
   "execution_count": 6,
   "metadata": {},
   "outputs": [
    {
     "data": {
      "text/plain": [
       "'data/trace_edf_fifo_non_preemptive_example1.txt'"
      ]
     },
     "execution_count": 6,
     "metadata": {},
     "output_type": "execute_result"
    }
   ],
   "source": [
    "run(filename_set, filename_trace, \n",
    "    policy=policy, atomic=False, steps=None)"
   ]
  },
  {
   "cell_type": "code",
   "execution_count": 7,
   "metadata": {},
   "outputs": [],
   "source": [
    "tasks = read_tasks(filename_set)\n",
    "traces = read_traces(filename_trace)\n",
    "df_traces = process_traces(traces)\n",
    "# df_traces"
   ]
  },
  {
   "cell_type": "code",
   "execution_count": 8,
   "metadata": {},
   "outputs": [
    {
     "data": {
      "application/vnd.plotly.v1+json": {
       "config": {
        "plotlyServerURL": "https://plot.ly"
       },
       "data": [
        {
         "marker": {
          "color": "#636EFA",
          "size": 12,
          "symbol": "circle"
         },
         "mode": "markers",
         "name": "Task 1",
         "r": [
          100,
          100,
          100,
          100,
          100,
          100
         ],
         "showlegend": true,
         "theta": [
          80,
          140,
          200,
          260,
          320,
          380
         ],
         "type": "scatterpolar"
        },
        {
         "marker": {
          "color": "#EF553B",
          "size": 12,
          "symbol": "circle"
         },
         "mode": "markers",
         "name": "Task 2",
         "r": [
          100,
          100,
          100
         ],
         "showlegend": true,
         "theta": [
          120,
          240,
          360
         ],
         "type": "scatterpolar"
        },
        {
         "marker": {
          "color": "#00CC96",
          "size": 12,
          "symbol": "circle"
         },
         "mode": "markers",
         "name": "Task 3",
         "r": [
          100,
          100
         ],
         "showlegend": true,
         "theta": [
          180,
          360
         ],
         "type": "scatterpolar"
        },
        {
         "base": 0,
         "marker": {
          "color": "#00CC96",
          "line": {
           "color": "black",
           "width": 2
          }
         },
         "opacity": 1,
         "r": [
          100
         ],
         "showlegend": false,
         "theta": [
          10
         ],
         "type": "barpolar",
         "width": [
          20
         ]
        },
        {
         "base": 0,
         "marker": {
          "color": "#EF553B",
          "line": {
           "color": "black",
           "width": 2
          }
         },
         "opacity": 1,
         "r": [
          100
         ],
         "showlegend": false,
         "theta": [
          30
         ],
         "type": "barpolar",
         "width": [
          20
         ]
        },
        {
         "base": 0,
         "marker": {
          "color": "#636EFA",
          "line": {
           "color": "black",
           "width": 2
          }
         },
         "opacity": 1,
         "r": [
          100
         ],
         "showlegend": false,
         "theta": [
          50
         ],
         "type": "barpolar",
         "width": [
          20
         ]
        },
        {
         "base": 0,
         "marker": {
          "color": "#DDDDDD",
          "line": {
           "color": "black",
           "width": 2
          }
         },
         "opacity": 1,
         "r": [
          100
         ],
         "showlegend": false,
         "theta": [
          80
         ],
         "type": "barpolar",
         "width": [
          40
         ]
        },
        {
         "base": 0,
         "marker": {
          "color": "#636EFA",
          "line": {
           "color": "black",
           "width": 2
          }
         },
         "opacity": 1,
         "r": [
          100
         ],
         "showlegend": false,
         "theta": [
          110
         ],
         "type": "barpolar",
         "width": [
          20
         ]
        },
        {
         "base": 0,
         "marker": {
          "color": "#DDDDDD",
          "line": {
           "color": "black",
           "width": 2
          }
         },
         "opacity": 1,
         "r": [
          100
         ],
         "showlegend": false,
         "theta": [
          140
         ],
         "type": "barpolar",
         "width": [
          40
         ]
        },
        {
         "base": 0,
         "marker": {
          "color": "#00CC96",
          "line": {
           "color": "black",
           "width": 2
          }
         },
         "opacity": 1,
         "r": [
          100
         ],
         "showlegend": false,
         "theta": [
          170
         ],
         "type": "barpolar",
         "width": [
          20
         ]
        },
        {
         "base": 0,
         "marker": {
          "color": "#636EFA",
          "line": {
           "color": "black",
           "width": 2
          }
         },
         "opacity": 1,
         "r": [
          100
         ],
         "showlegend": false,
         "theta": [
          190
         ],
         "type": "barpolar",
         "width": [
          20
         ]
        },
        {
         "base": 0,
         "marker": {
          "color": "#EF553B",
          "line": {
           "color": "black",
           "width": 2
          }
         },
         "opacity": 1,
         "r": [
          100
         ],
         "showlegend": false,
         "theta": [
          210
         ],
         "type": "barpolar",
         "width": [
          20
         ]
        },
        {
         "base": 0,
         "marker": {
          "color": "#636EFA",
          "line": {
           "color": "black",
           "width": 2
          }
         },
         "opacity": 1,
         "r": [
          100
         ],
         "showlegend": false,
         "theta": [
          230
         ],
         "type": "barpolar",
         "width": [
          20
         ]
        },
        {
         "base": 0,
         "marker": {
          "color": "#00CC96",
          "line": {
           "color": "black",
           "width": 2
          }
         },
         "opacity": 1,
         "r": [
          100
         ],
         "showlegend": false,
         "theta": [
          260
         ],
         "type": "barpolar",
         "width": [
          40
         ]
        },
        {
         "base": 0,
         "marker": {
          "color": "#636EFA",
          "line": {
           "color": "black",
           "width": 2
          }
         },
         "opacity": 1,
         "r": [
          100
         ],
         "showlegend": false,
         "theta": [
          290
         ],
         "type": "barpolar",
         "width": [
          20
         ]
        },
        {
         "base": 0,
         "marker": {
          "color": "#EF553B",
          "line": {
           "color": "black",
           "width": 2
          }
         },
         "opacity": 1,
         "r": [
          100
         ],
         "showlegend": false,
         "theta": [
          310
         ],
         "type": "barpolar",
         "width": [
          20
         ]
        },
        {
         "base": 0,
         "marker": {
          "color": "white",
          "line": {
           "color": "black",
           "width": 2
          }
         },
         "opacity": 1,
         "r": [
          100
         ],
         "showlegend": false,
         "theta": [
          330
         ],
         "type": "barpolar",
         "width": [
          20
         ]
        },
        {
         "base": 0,
         "marker": {
          "color": "#636EFA",
          "line": {
           "color": "black",
           "width": 2
          }
         },
         "opacity": 1,
         "r": [
          100
         ],
         "showlegend": false,
         "theta": [
          350
         ],
         "type": "barpolar",
         "width": [
          20
         ]
        }
       ],
       "layout": {
        "annotations": [
         {
          "arrowcolor": "#636EFA",
          "arrowhead": 2,
          "arrowside": "start",
          "arrowwidth": 2,
          "ax": 204.27851816506083,
          "ay": -171.41002924974381,
          "x": 0.5,
          "y": 0.5
         },
         {
          "arrowcolor": "#636EFA",
          "arrowhead": 2,
          "arrowside": "start",
          "arrowwidth": 2,
          "ax": -46.30618071118142,
          "ay": -262.6154008032555,
          "x": 0.5,
          "y": 0.5
         },
         {
          "arrowcolor": "#636EFA",
          "arrowhead": 2,
          "arrowside": "start",
          "arrowwidth": 2,
          "ax": -250.58469887624224,
          "ay": -91.20537155351171,
          "x": 0.5,
          "y": 0.5
         },
         {
          "arrowcolor": "#636EFA",
          "arrowhead": 2,
          "arrowside": "start",
          "arrowwidth": 2,
          "ax": -204.27851816506083,
          "ay": 171.41002924974381,
          "x": 0.5,
          "y": 0.5
         },
         {
          "arrowcolor": "#636EFA",
          "arrowhead": 2,
          "arrowside": "start",
          "arrowwidth": 2,
          "ax": 46.30618071118133,
          "ay": 262.6154008032555,
          "x": 0.5,
          "y": 0.5
         },
         {
          "arrowcolor": "#636EFA",
          "arrowhead": 2,
          "arrowside": "start",
          "arrowwidth": 2,
          "ax": 250.58469887624227,
          "ay": 91.20537155351164,
          "x": 0.5,
          "y": 0.5
         },
         {
          "arrowcolor": "#EF553B",
          "arrowhead": 2,
          "arrowside": "start",
          "arrowwidth": 2,
          "ax": 250.58469887624227,
          "ay": -91.20537155351167,
          "x": 0.5,
          "y": 0.5
         },
         {
          "arrowcolor": "#EF553B",
          "arrowhead": 2,
          "arrowside": "start",
          "arrowwidth": 2,
          "ax": -204.2785181650608,
          "ay": -171.41002924974387,
          "x": 0.5,
          "y": 0.5
         },
         {
          "arrowcolor": "#EF553B",
          "arrowhead": 2,
          "arrowside": "start",
          "arrowwidth": 2,
          "ax": -46.306180711181426,
          "ay": 262.6154008032555,
          "x": 0.5,
          "y": 0.5
         },
         {
          "arrowcolor": "#00CC96",
          "arrowhead": 2,
          "arrowside": "start",
          "arrowwidth": 2,
          "ax": 266.6666666666667,
          "ay": 0,
          "x": 0.5,
          "y": 0.5
         },
         {
          "arrowcolor": "#00CC96",
          "arrowhead": 2,
          "arrowside": "start",
          "arrowwidth": 2,
          "ax": -266.6666666666667,
          "ay": -3.2657247977262757e-14,
          "x": 0.5,
          "y": 0.5
         }
        ],
        "autosize": false,
        "height": 600,
        "polar": {
         "angularaxis": {
          "tickmode": "array",
          "ticks": "",
          "ticktext": [
           0,
           1,
           2,
           3,
           4,
           5,
           6,
           7,
           8,
           9,
           10,
           11,
           12,
           13,
           14,
           15,
           16,
           17
          ],
          "tickvals": [
           0,
           20,
           40,
           60,
           80,
           100,
           120,
           140,
           160,
           180,
           200,
           220,
           240,
           260,
           280,
           300,
           320,
           340
          ]
         },
         "radialaxis": {
          "range": [
           0,
           100
          ],
          "showticklabels": false,
          "ticks": ""
         }
        },
        "template": {},
        "width": 600
       }
      }
     },
     "metadata": {},
     "output_type": "display_data"
    }
   ],
   "source": [
    "plot_polar(tasks, df_traces, 600, output_dir=output_dir)"
   ]
  },
  {
   "cell_type": "code",
   "execution_count": 9,
   "metadata": {},
   "outputs": [
    {
     "name": "stdout",
     "output_type": "stream",
     "text": [
      "MoviePy - Building file outputs/edf_fifo_non_preemptive_example1.gif with imageio.\n"
     ]
    },
    {
     "name": "stderr",
     "output_type": "stream",
     "text": [
      "                                                            \r"
     ]
    }
   ],
   "source": [
    "clip = mpy.ImageSequenceClip(output_dir, fps=1)\n",
    "clip.write_gif(f'outputs/{name}.gif')"
   ]
  },
  {
   "cell_type": "code",
   "execution_count": 10,
   "metadata": {},
   "outputs": [
    {
     "data": {
      "application/vnd.plotly.v1+json": {
       "config": {
        "plotlyServerURL": "https://plot.ly"
       },
       "data": [
        {
         "alignmentgroup": "True",
         "base": [
          0,
          8,
          12
         ],
         "hovertemplate": "id=3<br>start=%{base}<br>end=%{x}<br>task=%{y}<extra></extra>",
         "legendgroup": "3",
         "marker": {
          "color": "#00CC96",
          "line": {
           "color": "black",
           "width": 1
          },
          "opacity": 0.8
         },
         "name": "3",
         "offsetgroup": "3",
         "orientation": "h",
         "showlegend": true,
         "textposition": "auto",
         "type": "bar",
         "width": 0.25,
         "x": [
          1,
          1,
          2
         ],
         "xaxis": "x",
         "y": [
          3,
          3,
          3
         ],
         "yaxis": "y"
        },
        {
         "alignmentgroup": "True",
         "base": [
          1,
          10,
          15
         ],
         "hovertemplate": "id=2<br>start=%{base}<br>end=%{x}<br>task=%{y}<extra></extra>",
         "legendgroup": "2",
         "marker": {
          "color": "#EF553B",
          "line": {
           "color": "black",
           "width": 1
          },
          "opacity": 0.8
         },
         "name": "2",
         "offsetgroup": "2",
         "orientation": "h",
         "showlegend": true,
         "textposition": "auto",
         "type": "bar",
         "width": 0.25,
         "x": [
          1,
          1,
          1
         ],
         "xaxis": "x",
         "y": [
          2,
          2,
          2
         ],
         "yaxis": "y"
        },
        {
         "alignmentgroup": "True",
         "base": [
          2,
          5,
          9,
          11,
          14,
          17
         ],
         "hovertemplate": "id=1<br>start=%{base}<br>end=%{x}<br>task=%{y}<extra></extra>",
         "legendgroup": "1",
         "marker": {
          "color": "#636EFA",
          "line": {
           "color": "black",
           "width": 1
          },
          "opacity": 0.8
         },
         "name": "1",
         "offsetgroup": "1",
         "orientation": "h",
         "showlegend": true,
         "textposition": "auto",
         "type": "bar",
         "width": 0.25,
         "x": [
          1,
          1,
          1,
          1,
          1,
          1
         ],
         "xaxis": "x",
         "y": [
          1,
          1,
          1,
          1,
          1,
          1
         ],
         "yaxis": "y"
        },
        {
         "alignmentgroup": "True",
         "base": [
          3,
          6
         ],
         "hovertemplate": "id=0<br>start=%{base}<br>end=%{x}<br>task=%{y}<extra></extra>",
         "legendgroup": "0",
         "marker": {
          "color": "#DDDDDD",
          "line": {
           "color": "black",
           "width": 1
          },
          "opacity": 0.8
         },
         "name": "0",
         "offsetgroup": "0",
         "orientation": "h",
         "showlegend": false,
         "textposition": "auto",
         "type": "bar",
         "width": 0.25,
         "x": [
          2,
          2
         ],
         "xaxis": "x",
         "y": [
          3,
          3
         ],
         "yaxis": "y"
        }
       ],
       "layout": {
        "annotations": [
         {
          "arrowcolor": "#00CC96",
          "arrowhead": 2,
          "arrowwidth": 2,
          "ax": 0,
          "axref": "x",
          "ay": -0.225,
          "ayref": "y",
          "showarrow": true,
          "x": 0,
          "y": 0.25
         },
         {
          "arrowcolor": "#00CC96",
          "arrowhead": 2,
          "arrowwidth": 2,
          "ax": 9,
          "axref": "x",
          "ay": -0.225,
          "ayref": "y",
          "showarrow": true,
          "x": 9,
          "y": 0.25
         },
         {
          "arrowcolor": "#EF553B",
          "arrowhead": 2,
          "arrowwidth": 2,
          "ax": 1,
          "axref": "x",
          "ay": 0.775,
          "ayref": "y",
          "showarrow": true,
          "x": 1,
          "y": 1.25
         },
         {
          "arrowcolor": "#EF553B",
          "arrowhead": 2,
          "arrowwidth": 2,
          "ax": 7,
          "axref": "x",
          "ay": 0.775,
          "ayref": "y",
          "showarrow": true,
          "x": 7,
          "y": 1.25
         },
         {
          "arrowcolor": "#EF553B",
          "arrowhead": 2,
          "arrowwidth": 2,
          "ax": 13,
          "axref": "x",
          "ay": 0.775,
          "ayref": "y",
          "showarrow": true,
          "x": 13,
          "y": 1.25
         },
         {
          "arrowcolor": "#636EFA",
          "arrowhead": 2,
          "arrowwidth": 2,
          "ax": 2,
          "axref": "x",
          "ay": 1.775,
          "ayref": "y",
          "showarrow": true,
          "x": 2,
          "y": 2.25
         },
         {
          "arrowcolor": "#636EFA",
          "arrowhead": 2,
          "arrowwidth": 2,
          "ax": 5,
          "axref": "x",
          "ay": 1.775,
          "ayref": "y",
          "showarrow": true,
          "x": 5,
          "y": 2.25
         },
         {
          "arrowcolor": "#636EFA",
          "arrowhead": 2,
          "arrowwidth": 2,
          "ax": 8,
          "axref": "x",
          "ay": 1.775,
          "ayref": "y",
          "showarrow": true,
          "x": 8,
          "y": 2.25
         },
         {
          "arrowcolor": "#636EFA",
          "arrowhead": 2,
          "arrowwidth": 2,
          "ax": 11,
          "axref": "x",
          "ay": 1.775,
          "ayref": "y",
          "showarrow": true,
          "x": 11,
          "y": 2.25
         },
         {
          "arrowcolor": "#636EFA",
          "arrowhead": 2,
          "arrowwidth": 2,
          "ax": 14,
          "axref": "x",
          "ay": 1.775,
          "ayref": "y",
          "showarrow": true,
          "x": 14,
          "y": 2.25
         },
         {
          "arrowcolor": "#636EFA",
          "arrowhead": 2,
          "arrowwidth": 2,
          "ax": 17,
          "axref": "x",
          "ay": 1.775,
          "ayref": "y",
          "showarrow": true,
          "x": 17,
          "y": 2.25
         }
        ],
        "barmode": "overlay",
        "legend": {
         "title": {
          "text": "id"
         },
         "tracegroupgap": 0
        },
        "margin": {
         "t": 60
        },
        "shapes": [
         {
          "type": "line",
          "x0": 0,
          "x1": 1,
          "xref": "x domain",
          "y0": 1.875,
          "y1": 1.875,
          "yref": "y"
         },
         {
          "fillcolor": "#00CC96",
          "line": {
           "color": "#00CC96"
          },
          "type": "circle",
          "x0": 9,
          "x1": 9.25,
          "xref": "x",
          "y0": -0.175,
          "y1": -0.075,
          "yref": "y"
         },
         {
          "type": "line",
          "x0": 0,
          "x1": 1,
          "xref": "x domain",
          "y0": 0.875,
          "y1": 0.875,
          "yref": "y"
         },
         {
          "fillcolor": "#EF553B",
          "line": {
           "color": "#EF553B"
          },
          "type": "circle",
          "x0": 6,
          "x1": 6.25,
          "xref": "x",
          "y0": 0.825,
          "y1": 0.925,
          "yref": "y"
         },
         {
          "fillcolor": "#EF553B",
          "line": {
           "color": "#EF553B"
          },
          "type": "circle",
          "x0": 12,
          "x1": 12.25,
          "xref": "x",
          "y0": 0.825,
          "y1": 0.925,
          "yref": "y"
         },
         {
          "type": "line",
          "x0": 0,
          "x1": 1,
          "xref": "x domain",
          "y0": -0.125,
          "y1": -0.125,
          "yref": "y"
         },
         {
          "fillcolor": "#636EFA",
          "line": {
           "color": "#636EFA"
          },
          "type": "circle",
          "x0": 4,
          "x1": 4.25,
          "xref": "x",
          "y0": 1.825,
          "y1": 1.925,
          "yref": "y"
         },
         {
          "fillcolor": "#636EFA",
          "line": {
           "color": "#636EFA"
          },
          "type": "circle",
          "x0": 7,
          "x1": 7.25,
          "xref": "x",
          "y0": 1.825,
          "y1": 1.925,
          "yref": "y"
         },
         {
          "fillcolor": "#636EFA",
          "line": {
           "color": "#636EFA"
          },
          "type": "circle",
          "x0": 10,
          "x1": 10.25,
          "xref": "x",
          "y0": 1.825,
          "y1": 1.925,
          "yref": "y"
         },
         {
          "fillcolor": "#636EFA",
          "line": {
           "color": "#636EFA"
          },
          "type": "circle",
          "x0": 13,
          "x1": 13.25,
          "xref": "x",
          "y0": 1.825,
          "y1": 1.925,
          "yref": "y"
         },
         {
          "fillcolor": "#636EFA",
          "line": {
           "color": "#636EFA"
          },
          "type": "circle",
          "x0": 16,
          "x1": 16.25,
          "xref": "x",
          "y0": 1.825,
          "y1": 1.925,
          "yref": "y"
         }
        ],
        "template": {
         "data": {
          "bar": [
           {
            "error_x": {
             "color": "#2a3f5f"
            },
            "error_y": {
             "color": "#2a3f5f"
            },
            "marker": {
             "line": {
              "color": "#E5ECF6",
              "width": 0.5
             },
             "pattern": {
              "fillmode": "overlay",
              "size": 10,
              "solidity": 0.2
             }
            },
            "type": "bar"
           }
          ],
          "barpolar": [
           {
            "marker": {
             "line": {
              "color": "#E5ECF6",
              "width": 0.5
             },
             "pattern": {
              "fillmode": "overlay",
              "size": 10,
              "solidity": 0.2
             }
            },
            "type": "barpolar"
           }
          ],
          "carpet": [
           {
            "aaxis": {
             "endlinecolor": "#2a3f5f",
             "gridcolor": "white",
             "linecolor": "white",
             "minorgridcolor": "white",
             "startlinecolor": "#2a3f5f"
            },
            "baxis": {
             "endlinecolor": "#2a3f5f",
             "gridcolor": "white",
             "linecolor": "white",
             "minorgridcolor": "white",
             "startlinecolor": "#2a3f5f"
            },
            "type": "carpet"
           }
          ],
          "choropleth": [
           {
            "colorbar": {
             "outlinewidth": 0,
             "ticks": ""
            },
            "type": "choropleth"
           }
          ],
          "contour": [
           {
            "colorbar": {
             "outlinewidth": 0,
             "ticks": ""
            },
            "colorscale": [
             [
              0,
              "#0d0887"
             ],
             [
              0.1111111111111111,
              "#46039f"
             ],
             [
              0.2222222222222222,
              "#7201a8"
             ],
             [
              0.3333333333333333,
              "#9c179e"
             ],
             [
              0.4444444444444444,
              "#bd3786"
             ],
             [
              0.5555555555555556,
              "#d8576b"
             ],
             [
              0.6666666666666666,
              "#ed7953"
             ],
             [
              0.7777777777777778,
              "#fb9f3a"
             ],
             [
              0.8888888888888888,
              "#fdca26"
             ],
             [
              1,
              "#f0f921"
             ]
            ],
            "type": "contour"
           }
          ],
          "contourcarpet": [
           {
            "colorbar": {
             "outlinewidth": 0,
             "ticks": ""
            },
            "type": "contourcarpet"
           }
          ],
          "heatmap": [
           {
            "colorbar": {
             "outlinewidth": 0,
             "ticks": ""
            },
            "colorscale": [
             [
              0,
              "#0d0887"
             ],
             [
              0.1111111111111111,
              "#46039f"
             ],
             [
              0.2222222222222222,
              "#7201a8"
             ],
             [
              0.3333333333333333,
              "#9c179e"
             ],
             [
              0.4444444444444444,
              "#bd3786"
             ],
             [
              0.5555555555555556,
              "#d8576b"
             ],
             [
              0.6666666666666666,
              "#ed7953"
             ],
             [
              0.7777777777777778,
              "#fb9f3a"
             ],
             [
              0.8888888888888888,
              "#fdca26"
             ],
             [
              1,
              "#f0f921"
             ]
            ],
            "type": "heatmap"
           }
          ],
          "heatmapgl": [
           {
            "colorbar": {
             "outlinewidth": 0,
             "ticks": ""
            },
            "colorscale": [
             [
              0,
              "#0d0887"
             ],
             [
              0.1111111111111111,
              "#46039f"
             ],
             [
              0.2222222222222222,
              "#7201a8"
             ],
             [
              0.3333333333333333,
              "#9c179e"
             ],
             [
              0.4444444444444444,
              "#bd3786"
             ],
             [
              0.5555555555555556,
              "#d8576b"
             ],
             [
              0.6666666666666666,
              "#ed7953"
             ],
             [
              0.7777777777777778,
              "#fb9f3a"
             ],
             [
              0.8888888888888888,
              "#fdca26"
             ],
             [
              1,
              "#f0f921"
             ]
            ],
            "type": "heatmapgl"
           }
          ],
          "histogram": [
           {
            "marker": {
             "pattern": {
              "fillmode": "overlay",
              "size": 10,
              "solidity": 0.2
             }
            },
            "type": "histogram"
           }
          ],
          "histogram2d": [
           {
            "colorbar": {
             "outlinewidth": 0,
             "ticks": ""
            },
            "colorscale": [
             [
              0,
              "#0d0887"
             ],
             [
              0.1111111111111111,
              "#46039f"
             ],
             [
              0.2222222222222222,
              "#7201a8"
             ],
             [
              0.3333333333333333,
              "#9c179e"
             ],
             [
              0.4444444444444444,
              "#bd3786"
             ],
             [
              0.5555555555555556,
              "#d8576b"
             ],
             [
              0.6666666666666666,
              "#ed7953"
             ],
             [
              0.7777777777777778,
              "#fb9f3a"
             ],
             [
              0.8888888888888888,
              "#fdca26"
             ],
             [
              1,
              "#f0f921"
             ]
            ],
            "type": "histogram2d"
           }
          ],
          "histogram2dcontour": [
           {
            "colorbar": {
             "outlinewidth": 0,
             "ticks": ""
            },
            "colorscale": [
             [
              0,
              "#0d0887"
             ],
             [
              0.1111111111111111,
              "#46039f"
             ],
             [
              0.2222222222222222,
              "#7201a8"
             ],
             [
              0.3333333333333333,
              "#9c179e"
             ],
             [
              0.4444444444444444,
              "#bd3786"
             ],
             [
              0.5555555555555556,
              "#d8576b"
             ],
             [
              0.6666666666666666,
              "#ed7953"
             ],
             [
              0.7777777777777778,
              "#fb9f3a"
             ],
             [
              0.8888888888888888,
              "#fdca26"
             ],
             [
              1,
              "#f0f921"
             ]
            ],
            "type": "histogram2dcontour"
           }
          ],
          "mesh3d": [
           {
            "colorbar": {
             "outlinewidth": 0,
             "ticks": ""
            },
            "type": "mesh3d"
           }
          ],
          "parcoords": [
           {
            "line": {
             "colorbar": {
              "outlinewidth": 0,
              "ticks": ""
             }
            },
            "type": "parcoords"
           }
          ],
          "pie": [
           {
            "automargin": true,
            "type": "pie"
           }
          ],
          "scatter": [
           {
            "marker": {
             "colorbar": {
              "outlinewidth": 0,
              "ticks": ""
             }
            },
            "type": "scatter"
           }
          ],
          "scatter3d": [
           {
            "line": {
             "colorbar": {
              "outlinewidth": 0,
              "ticks": ""
             }
            },
            "marker": {
             "colorbar": {
              "outlinewidth": 0,
              "ticks": ""
             }
            },
            "type": "scatter3d"
           }
          ],
          "scattercarpet": [
           {
            "marker": {
             "colorbar": {
              "outlinewidth": 0,
              "ticks": ""
             }
            },
            "type": "scattercarpet"
           }
          ],
          "scattergeo": [
           {
            "marker": {
             "colorbar": {
              "outlinewidth": 0,
              "ticks": ""
             }
            },
            "type": "scattergeo"
           }
          ],
          "scattergl": [
           {
            "marker": {
             "colorbar": {
              "outlinewidth": 0,
              "ticks": ""
             }
            },
            "type": "scattergl"
           }
          ],
          "scattermapbox": [
           {
            "marker": {
             "colorbar": {
              "outlinewidth": 0,
              "ticks": ""
             }
            },
            "type": "scattermapbox"
           }
          ],
          "scatterpolar": [
           {
            "marker": {
             "colorbar": {
              "outlinewidth": 0,
              "ticks": ""
             }
            },
            "type": "scatterpolar"
           }
          ],
          "scatterpolargl": [
           {
            "marker": {
             "colorbar": {
              "outlinewidth": 0,
              "ticks": ""
             }
            },
            "type": "scatterpolargl"
           }
          ],
          "scatterternary": [
           {
            "marker": {
             "colorbar": {
              "outlinewidth": 0,
              "ticks": ""
             }
            },
            "type": "scatterternary"
           }
          ],
          "surface": [
           {
            "colorbar": {
             "outlinewidth": 0,
             "ticks": ""
            },
            "colorscale": [
             [
              0,
              "#0d0887"
             ],
             [
              0.1111111111111111,
              "#46039f"
             ],
             [
              0.2222222222222222,
              "#7201a8"
             ],
             [
              0.3333333333333333,
              "#9c179e"
             ],
             [
              0.4444444444444444,
              "#bd3786"
             ],
             [
              0.5555555555555556,
              "#d8576b"
             ],
             [
              0.6666666666666666,
              "#ed7953"
             ],
             [
              0.7777777777777778,
              "#fb9f3a"
             ],
             [
              0.8888888888888888,
              "#fdca26"
             ],
             [
              1,
              "#f0f921"
             ]
            ],
            "type": "surface"
           }
          ],
          "table": [
           {
            "cells": {
             "fill": {
              "color": "#EBF0F8"
             },
             "line": {
              "color": "white"
             }
            },
            "header": {
             "fill": {
              "color": "#C8D4E3"
             },
             "line": {
              "color": "white"
             }
            },
            "type": "table"
           }
          ]
         },
         "layout": {
          "annotationdefaults": {
           "arrowcolor": "#2a3f5f",
           "arrowhead": 0,
           "arrowwidth": 1
          },
          "autotypenumbers": "strict",
          "coloraxis": {
           "colorbar": {
            "outlinewidth": 0,
            "ticks": ""
           }
          },
          "colorscale": {
           "diverging": [
            [
             0,
             "#8e0152"
            ],
            [
             0.1,
             "#c51b7d"
            ],
            [
             0.2,
             "#de77ae"
            ],
            [
             0.3,
             "#f1b6da"
            ],
            [
             0.4,
             "#fde0ef"
            ],
            [
             0.5,
             "#f7f7f7"
            ],
            [
             0.6,
             "#e6f5d0"
            ],
            [
             0.7,
             "#b8e186"
            ],
            [
             0.8,
             "#7fbc41"
            ],
            [
             0.9,
             "#4d9221"
            ],
            [
             1,
             "#276419"
            ]
           ],
           "sequential": [
            [
             0,
             "#0d0887"
            ],
            [
             0.1111111111111111,
             "#46039f"
            ],
            [
             0.2222222222222222,
             "#7201a8"
            ],
            [
             0.3333333333333333,
             "#9c179e"
            ],
            [
             0.4444444444444444,
             "#bd3786"
            ],
            [
             0.5555555555555556,
             "#d8576b"
            ],
            [
             0.6666666666666666,
             "#ed7953"
            ],
            [
             0.7777777777777778,
             "#fb9f3a"
            ],
            [
             0.8888888888888888,
             "#fdca26"
            ],
            [
             1,
             "#f0f921"
            ]
           ],
           "sequentialminus": [
            [
             0,
             "#0d0887"
            ],
            [
             0.1111111111111111,
             "#46039f"
            ],
            [
             0.2222222222222222,
             "#7201a8"
            ],
            [
             0.3333333333333333,
             "#9c179e"
            ],
            [
             0.4444444444444444,
             "#bd3786"
            ],
            [
             0.5555555555555556,
             "#d8576b"
            ],
            [
             0.6666666666666666,
             "#ed7953"
            ],
            [
             0.7777777777777778,
             "#fb9f3a"
            ],
            [
             0.8888888888888888,
             "#fdca26"
            ],
            [
             1,
             "#f0f921"
            ]
           ]
          },
          "colorway": [
           "#636efa",
           "#EF553B",
           "#00cc96",
           "#ab63fa",
           "#FFA15A",
           "#19d3f3",
           "#FF6692",
           "#B6E880",
           "#FF97FF",
           "#FECB52"
          ],
          "font": {
           "color": "#2a3f5f"
          },
          "geo": {
           "bgcolor": "white",
           "lakecolor": "white",
           "landcolor": "#E5ECF6",
           "showlakes": true,
           "showland": true,
           "subunitcolor": "white"
          },
          "hoverlabel": {
           "align": "left"
          },
          "hovermode": "closest",
          "mapbox": {
           "style": "light"
          },
          "paper_bgcolor": "white",
          "plot_bgcolor": "#E5ECF6",
          "polar": {
           "angularaxis": {
            "gridcolor": "white",
            "linecolor": "white",
            "ticks": ""
           },
           "bgcolor": "#E5ECF6",
           "radialaxis": {
            "gridcolor": "white",
            "linecolor": "white",
            "ticks": ""
           }
          },
          "scene": {
           "xaxis": {
            "backgroundcolor": "#E5ECF6",
            "gridcolor": "white",
            "gridwidth": 2,
            "linecolor": "white",
            "showbackground": true,
            "ticks": "",
            "zerolinecolor": "white"
           },
           "yaxis": {
            "backgroundcolor": "#E5ECF6",
            "gridcolor": "white",
            "gridwidth": 2,
            "linecolor": "white",
            "showbackground": true,
            "ticks": "",
            "zerolinecolor": "white"
           },
           "zaxis": {
            "backgroundcolor": "#E5ECF6",
            "gridcolor": "white",
            "gridwidth": 2,
            "linecolor": "white",
            "showbackground": true,
            "ticks": "",
            "zerolinecolor": "white"
           }
          },
          "shapedefaults": {
           "line": {
            "color": "#2a3f5f"
           }
          },
          "ternary": {
           "aaxis": {
            "gridcolor": "white",
            "linecolor": "white",
            "ticks": ""
           },
           "baxis": {
            "gridcolor": "white",
            "linecolor": "white",
            "ticks": ""
           },
           "bgcolor": "#E5ECF6",
           "caxis": {
            "gridcolor": "white",
            "linecolor": "white",
            "ticks": ""
           }
          },
          "title": {
           "x": 0.05
          },
          "xaxis": {
           "automargin": true,
           "gridcolor": "white",
           "linecolor": "white",
           "ticks": "",
           "title": {
            "standoff": 15
           },
           "zerolinecolor": "white",
           "zerolinewidth": 2
          },
          "yaxis": {
           "automargin": true,
           "gridcolor": "white",
           "linecolor": "white",
           "ticks": "",
           "title": {
            "standoff": 15
           },
           "zerolinecolor": "white",
           "zerolinewidth": 2
          }
         }
        },
        "xaxis": {
         "anchor": "y",
         "domain": [
          0,
          1
         ],
         "type": "linear"
        },
        "yaxis": {
         "anchor": "x",
         "categoryorder": "category descending",
         "domain": [
          0,
          1
         ],
         "title": {
          "text": "task"
         },
         "type": "category"
        }
       }
      }
     },
     "metadata": {},
     "output_type": "display_data"
    }
   ],
   "source": [
    "output_filename = f'outputs/gantt_{name}.png'\n",
    "plot_gantt(tasks, df_traces, output_filename=output_filename)"
   ]
  },
  {
   "cell_type": "code",
   "execution_count": null,
   "metadata": {},
   "outputs": [],
   "source": []
  },
  {
   "cell_type": "code",
   "execution_count": null,
   "metadata": {},
   "outputs": [],
   "source": []
  },
  {
   "cell_type": "code",
   "execution_count": null,
   "metadata": {},
   "outputs": [],
   "source": []
  },
  {
   "cell_type": "code",
   "execution_count": null,
   "metadata": {},
   "outputs": [],
   "source": []
  },
  {
   "cell_type": "code",
   "execution_count": null,
   "metadata": {},
   "outputs": [],
   "source": []
  },
  {
   "cell_type": "code",
   "execution_count": null,
   "metadata": {},
   "outputs": [],
   "source": []
  }
 ],
 "metadata": {
  "kernelspec": {
   "display_name": "Python 3.9.0 ('rllib')",
   "language": "python",
   "name": "python3"
  },
  "language_info": {
   "codemirror_mode": {
    "name": "ipython",
    "version": 3
   },
   "file_extension": ".py",
   "mimetype": "text/x-python",
   "name": "python",
   "nbconvert_exporter": "python",
   "pygments_lexer": "ipython3",
   "version": "3.9.0"
  },
  "orig_nbformat": 4,
  "vscode": {
   "interpreter": {
    "hash": "12d644bfd6a40dbe518adab11d6c05edd9a4e0828820d5bd25e9fd02b594de02"
   }
  }
 },
 "nbformat": 4,
 "nbformat_minor": 2
}
