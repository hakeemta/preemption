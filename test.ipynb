{
 "cells": [
  {
   "cell_type": "code",
   "execution_count": 1,
   "metadata": {},
   "outputs": [],
   "source": [
    "import pathlib\n",
    "import numpy as np\n",
    "import pandas as pd\n",
    "\n",
    "from utils import *\n",
    "from viz import *\n",
    "from task_system import TaskSystem\n",
    "from policies.edf import EDF\n",
    "from policies.fjp import FJP\n",
    "\n",
    "import plotly.express as px\n",
    "import plotly.graph_objects as go\n",
    "\n",
    "import os\n",
    "os.environ[\"IMAGEIO_FFMPEG_EXE\"] = '/Users/abdulhakeemabdulrahman/homebrew/bin/ffmpeg'\n",
    "\n",
    "import  moviepy.editor as mpy\n",
    "import io \n",
    "from PIL import Image"
   ]
  },
  {
   "cell_type": "code",
   "execution_count": 2,
   "metadata": {},
   "outputs": [],
   "source": [
    "%load_ext autoreload\n",
    "%autoreload 2"
   ]
  },
  {
   "cell_type": "code",
   "execution_count": 3,
   "metadata": {},
   "outputs": [],
   "source": [
    "def run(filename, out_filename, policy, atomic=False, steps=None):\n",
    "    sys = TaskSystem()\n",
    "    sys.load_tasks(filename=filename)\n",
    "\n",
    "    if steps is None:\n",
    "        steps = 4 * sys.L\n",
    "\n",
    "    lines = []\n",
    "    for t in range(1, steps+1):\n",
    "        index = policy(sys.tasks, atomic=atomic)\n",
    "        # print(t, index)\n",
    "        sys.step(index)\n",
    "\n",
    "        n_repeats = t // sys.L\n",
    "        if (t % sys.L == 0) and (n_repeats > 0):\n",
    "            start = (n_repeats - 1) * sys.L\n",
    "            line = sys.trace[start: (start + sys.L)]\n",
    "            \n",
    "            if n_repeats > 1 and line == lines[0]:            \n",
    "                break\n",
    "\n",
    "            lines.append(line)\n",
    "        \n",
    "    with open(out_filename, 'w') as fp:\n",
    "        for line in lines:\n",
    "            line = [str(i) for i in line]\n",
    "            line = ' '.join(line)\n",
    "            fp.writelines(line + '\\n')\n",
    "\n",
    "    return out_filename\n",
    "        "
   ]
  },
  {
   "cell_type": "code",
   "execution_count": 4,
   "metadata": {},
   "outputs": [],
   "source": [
    "filename_set = f'data/set_edf.txt'\n",
    "\n",
    "name = 'edf_fifo_non_preemptive_edf_set'\n",
    "filename_trace = f'data/trace_{name}.txt'\n",
    "\n",
    "output_dir = f'outputs/{name}'\n",
    "pathlib.Path(output_dir).mkdir(parents=True, exist_ok=True)"
   ]
  },
  {
   "cell_type": "code",
   "execution_count": 5,
   "metadata": {},
   "outputs": [],
   "source": [
    "# priorities = [1, 2, 3, 4]\n",
    "# policy = FJP(priorities)\n",
    "\n",
    "policy = EDF(fifo=True)"
   ]
  },
  {
   "cell_type": "code",
   "execution_count": 6,
   "metadata": {},
   "outputs": [
    {
     "data": {
      "text/plain": [
       "'data/trace_edf_fifo_non_preemptive_edf_set.txt'"
      ]
     },
     "execution_count": 6,
     "metadata": {},
     "output_type": "execute_result"
    }
   ],
   "source": [
    "run(filename_set, filename_trace, \n",
    "    policy=policy, atomic=False, steps=None)"
   ]
  },
  {
   "cell_type": "code",
   "execution_count": 7,
   "metadata": {},
   "outputs": [],
   "source": [
    "tasks = read_tasks(filename_set)\n",
    "traces = read_traces(filename_trace)\n",
    "df_traces = process_traces(traces)\n",
    "# df_traces"
   ]
  },
  {
   "cell_type": "code",
   "execution_count": 8,
   "metadata": {},
   "outputs": [
    {
     "data": {
      "application/vnd.plotly.v1+json": {
       "config": {
        "plotlyServerURL": "https://plot.ly"
       },
       "data": [
        {
         "marker": {
          "color": "#636EFA",
          "size": 12,
          "symbol": "circle"
         },
         "mode": "markers",
         "name": "Task 1",
         "r": [
          100
         ],
         "showlegend": true,
         "theta": [
          360
         ],
         "type": "scatterpolar"
        },
        {
         "marker": {
          "color": "#EF553B",
          "size": 12,
          "symbol": "circle"
         },
         "mode": "markers",
         "name": "Task 2",
         "r": [
          100
         ],
         "showlegend": true,
         "theta": [
          360
         ],
         "type": "scatterpolar"
        },
        {
         "marker": {
          "color": "#00CC96",
          "size": 12,
          "symbol": "circle"
         },
         "mode": "markers",
         "name": "Task 3",
         "r": [
          100
         ],
         "showlegend": true,
         "theta": [
          432
         ],
         "type": "scatterpolar"
        },
        {
         "marker": {
          "color": "#AB63FA",
          "size": 12,
          "symbol": "circle"
         },
         "mode": "markers",
         "name": "Task 4",
         "r": [
          100
         ],
         "showlegend": true,
         "theta": [
          336
         ],
         "type": "scatterpolar"
        },
        {
         "base": 0,
         "marker": {
          "color": "#EF553B",
          "line": {
           "color": "black",
           "width": 2
          }
         },
         "opacity": 1,
         "r": [
          100
         ],
         "showlegend": false,
         "theta": [
          24
         ],
         "type": "barpolar",
         "width": [
          48
         ]
        },
        {
         "base": 0,
         "marker": {
          "color": "#636EFA",
          "line": {
           "color": "black",
           "width": 2
          }
         },
         "opacity": 1,
         "r": [
          100
         ],
         "showlegend": false,
         "theta": [
          60
         ],
         "type": "barpolar",
         "width": [
          24
         ]
        },
        {
         "base": 0,
         "marker": {
          "color": "#00CC96",
          "line": {
           "color": "black",
           "width": 2
          }
         },
         "opacity": 1,
         "r": [
          100
         ],
         "showlegend": false,
         "theta": [
          84
         ],
         "type": "barpolar",
         "width": [
          24
         ]
        },
        {
         "base": 0,
         "marker": {
          "color": "#AB63FA",
          "line": {
           "color": "black",
           "width": 2
          }
         },
         "opacity": 1,
         "r": [
          100
         ],
         "showlegend": false,
         "theta": [
          120
         ],
         "type": "barpolar",
         "width": [
          48
         ]
        },
        {
         "base": 0,
         "marker": {
          "color": "#DDDDDD",
          "line": {
           "color": "black",
           "width": 2
          }
         },
         "opacity": 1,
         "r": [
          100
         ],
         "showlegend": false,
         "theta": [
          180
         ],
         "type": "barpolar",
         "width": [
          72
         ]
        },
        {
         "base": 0,
         "marker": {
          "color": "#00CC96",
          "line": {
           "color": "black",
           "width": 2
          }
         },
         "opacity": 1,
         "r": [
          100
         ],
         "showlegend": false,
         "theta": [
          228
         ],
         "type": "barpolar",
         "width": [
          24
         ]
        },
        {
         "base": 0,
         "marker": {
          "color": "white",
          "line": {
           "color": "black",
           "width": 2
          }
         },
         "opacity": 1,
         "r": [
          100
         ],
         "showlegend": false,
         "theta": [
          300
         ],
         "type": "barpolar",
         "width": [
          120
         ]
        }
       ],
       "layout": {
        "annotations": [
         {
          "arrowcolor": "#636EFA",
          "arrowhead": 2,
          "arrowside": "start",
          "arrowwidth": 2,
          "ax": 243.6121220380269,
          "ay": -108.4631048202134,
          "x": 0.5,
          "y": 0.5
         },
         {
          "arrowcolor": "#EF553B",
          "arrowhead": 2,
          "arrowside": "start",
          "arrowwidth": 2,
          "ax": 266.6666666666667,
          "ay": 0,
          "x": 0.5,
          "y": 0.5
         },
         {
          "arrowcolor": "#00CC96",
          "arrowhead": 2,
          "arrowside": "start",
          "arrowwidth": 2,
          "ax": 82.40453183331933,
          "ay": -253.61507101204097,
          "x": 0.5,
          "y": 0.5
         },
         {
          "arrowcolor": "#AB63FA",
          "arrowhead": 2,
          "arrowside": "start",
          "arrowwidth": 2,
          "ax": -27.874256871374282,
          "ay": -265.2058387648729,
          "x": 0.5,
          "y": 0.5
         }
        ],
        "autosize": false,
        "height": 600,
        "polar": {
         "angularaxis": {
          "tickmode": "array",
          "ticks": "",
          "ticktext": [
           0,
           1,
           2,
           3,
           4,
           5,
           6,
           7,
           8,
           9,
           10,
           11,
           12,
           13,
           14
          ],
          "tickvals": [
           0,
           24,
           48,
           72,
           96,
           120,
           144,
           168,
           192,
           216,
           240,
           264,
           288,
           312,
           336
          ]
         },
         "radialaxis": {
          "range": [
           0,
           100
          ],
          "showticklabels": false,
          "ticks": ""
         }
        },
        "template": {},
        "width": 600
       }
      }
     },
     "metadata": {},
     "output_type": "display_data"
    }
   ],
   "source": [
    "plot_polar(tasks, df_traces, 600, output_dir=output_dir)"
   ]
  },
  {
   "cell_type": "code",
   "execution_count": 9,
   "metadata": {},
   "outputs": [
    {
     "name": "stdout",
     "output_type": "stream",
     "text": [
      "MoviePy - Building file outputs/edf_fifo_non_preemptive_edf_set.gif with imageio.\n"
     ]
    },
    {
     "name": "stderr",
     "output_type": "stream",
     "text": [
      "                                                          \r"
     ]
    }
   ],
   "source": [
    "clip = mpy.ImageSequenceClip(output_dir, fps=1)\n",
    "clip.write_gif(f'outputs/{name}.gif')"
   ]
  },
  {
   "cell_type": "code",
   "execution_count": 10,
   "metadata": {},
   "outputs": [
    {
     "data": {
      "application/vnd.plotly.v1+json": {
       "config": {
        "plotlyServerURL": "https://plot.ly"
       },
       "data": [
        {
         "alignmentgroup": "True",
         "base": [
          0
         ],
         "hovertemplate": "id=2<br>start=%{base}<br>end=%{x}<br>task=%{y}<extra></extra>",
         "legendgroup": "2",
         "marker": {
          "color": "#EF553B",
          "line": {
           "color": "black",
           "width": 1
          },
          "opacity": 0.8
         },
         "name": "2",
         "offsetgroup": "2",
         "orientation": "h",
         "showlegend": true,
         "textposition": "auto",
         "type": "bar",
         "width": 0.25,
         "x": [
          2
         ],
         "xaxis": "x",
         "y": [
          2
         ],
         "yaxis": "y"
        },
        {
         "alignmentgroup": "True",
         "base": [
          2
         ],
         "hovertemplate": "id=1<br>start=%{base}<br>end=%{x}<br>task=%{y}<extra></extra>",
         "legendgroup": "1",
         "marker": {
          "color": "#636EFA",
          "line": {
           "color": "black",
           "width": 1
          },
          "opacity": 0.8
         },
         "name": "1",
         "offsetgroup": "1",
         "orientation": "h",
         "showlegend": true,
         "textposition": "auto",
         "type": "bar",
         "width": 0.25,
         "x": [
          1
         ],
         "xaxis": "x",
         "y": [
          1
         ],
         "yaxis": "y"
        },
        {
         "alignmentgroup": "True",
         "base": [
          3,
          9
         ],
         "hovertemplate": "id=3<br>start=%{base}<br>end=%{x}<br>task=%{y}<extra></extra>",
         "legendgroup": "3",
         "marker": {
          "color": "#00CC96",
          "line": {
           "color": "black",
           "width": 1
          },
          "opacity": 0.8
         },
         "name": "3",
         "offsetgroup": "3",
         "orientation": "h",
         "showlegend": true,
         "textposition": "auto",
         "type": "bar",
         "width": 0.25,
         "x": [
          1,
          1
         ],
         "xaxis": "x",
         "y": [
          3,
          3
         ],
         "yaxis": "y"
        },
        {
         "alignmentgroup": "True",
         "base": [
          4
         ],
         "hovertemplate": "id=4<br>start=%{base}<br>end=%{x}<br>task=%{y}<extra></extra>",
         "legendgroup": "4",
         "marker": {
          "color": "#AB63FA",
          "line": {
           "color": "black",
           "width": 1
          },
          "opacity": 0.8
         },
         "name": "4",
         "offsetgroup": "4",
         "orientation": "h",
         "showlegend": true,
         "textposition": "auto",
         "type": "bar",
         "width": 0.25,
         "x": [
          2
         ],
         "xaxis": "x",
         "y": [
          4
         ],
         "yaxis": "y"
        },
        {
         "alignmentgroup": "True",
         "base": [
          6
         ],
         "hovertemplate": "id=0<br>start=%{base}<br>end=%{x}<br>task=%{y}<extra></extra>",
         "legendgroup": "0",
         "marker": {
          "color": "#DDDDDD",
          "line": {
           "color": "black",
           "width": 1
          },
          "opacity": 0.8
         },
         "name": "0",
         "offsetgroup": "0",
         "orientation": "h",
         "showlegend": false,
         "textposition": "auto",
         "type": "bar",
         "width": 0.25,
         "x": [
          3
         ],
         "xaxis": "x",
         "y": [
          3
         ],
         "yaxis": "y"
        }
       ],
       "layout": {
        "annotations": [
         {
          "arrowcolor": "#EF553B",
          "arrowhead": 2,
          "arrowwidth": 2,
          "ax": 0,
          "axref": "x",
          "ay": 1.775,
          "ayref": "y",
          "showarrow": true,
          "x": 0,
          "y": 2.25
         },
         {
          "arrowcolor": "#636EFA",
          "arrowhead": 2,
          "arrowwidth": 2,
          "ax": 1,
          "axref": "x",
          "ay": 2.775,
          "ayref": "y",
          "showarrow": true,
          "x": 1,
          "y": 3.25
         },
         {
          "arrowcolor": "#00CC96",
          "arrowhead": 2,
          "arrowwidth": 2,
          "ax": 3,
          "axref": "x",
          "ay": 0.775,
          "ayref": "y",
          "showarrow": true,
          "x": 3,
          "y": 1.25
         },
         {
          "arrowcolor": "#AB63FA",
          "arrowhead": 2,
          "arrowwidth": 2,
          "ax": 4,
          "axref": "x",
          "ay": -0.225,
          "ayref": "y",
          "showarrow": true,
          "x": 4,
          "y": 0.25
         }
        ],
        "barmode": "overlay",
        "legend": {
         "title": {
          "text": "id"
         },
         "tracegroupgap": 0
        },
        "margin": {
         "t": 60
        },
        "shapes": [
         {
          "type": "line",
          "x0": 0,
          "x1": 1,
          "xref": "x domain",
          "y0": 0.875,
          "y1": 0.875,
          "yref": "y"
         },
         {
          "type": "line",
          "x0": 0,
          "x1": 1,
          "xref": "x domain",
          "y0": -0.125,
          "y1": -0.125,
          "yref": "y"
         },
         {
          "type": "line",
          "x0": 0,
          "x1": 1,
          "xref": "x domain",
          "y0": 1.875,
          "y1": 1.875,
          "yref": "y"
         },
         {
          "type": "line",
          "x0": 0,
          "x1": 1,
          "xref": "x domain",
          "y0": 2.875,
          "y1": 2.875,
          "yref": "y"
         }
        ],
        "template": {
         "data": {
          "bar": [
           {
            "error_x": {
             "color": "#2a3f5f"
            },
            "error_y": {
             "color": "#2a3f5f"
            },
            "marker": {
             "line": {
              "color": "#E5ECF6",
              "width": 0.5
             },
             "pattern": {
              "fillmode": "overlay",
              "size": 10,
              "solidity": 0.2
             }
            },
            "type": "bar"
           }
          ],
          "barpolar": [
           {
            "marker": {
             "line": {
              "color": "#E5ECF6",
              "width": 0.5
             },
             "pattern": {
              "fillmode": "overlay",
              "size": 10,
              "solidity": 0.2
             }
            },
            "type": "barpolar"
           }
          ],
          "carpet": [
           {
            "aaxis": {
             "endlinecolor": "#2a3f5f",
             "gridcolor": "white",
             "linecolor": "white",
             "minorgridcolor": "white",
             "startlinecolor": "#2a3f5f"
            },
            "baxis": {
             "endlinecolor": "#2a3f5f",
             "gridcolor": "white",
             "linecolor": "white",
             "minorgridcolor": "white",
             "startlinecolor": "#2a3f5f"
            },
            "type": "carpet"
           }
          ],
          "choropleth": [
           {
            "colorbar": {
             "outlinewidth": 0,
             "ticks": ""
            },
            "type": "choropleth"
           }
          ],
          "contour": [
           {
            "colorbar": {
             "outlinewidth": 0,
             "ticks": ""
            },
            "colorscale": [
             [
              0,
              "#0d0887"
             ],
             [
              0.1111111111111111,
              "#46039f"
             ],
             [
              0.2222222222222222,
              "#7201a8"
             ],
             [
              0.3333333333333333,
              "#9c179e"
             ],
             [
              0.4444444444444444,
              "#bd3786"
             ],
             [
              0.5555555555555556,
              "#d8576b"
             ],
             [
              0.6666666666666666,
              "#ed7953"
             ],
             [
              0.7777777777777778,
              "#fb9f3a"
             ],
             [
              0.8888888888888888,
              "#fdca26"
             ],
             [
              1,
              "#f0f921"
             ]
            ],
            "type": "contour"
           }
          ],
          "contourcarpet": [
           {
            "colorbar": {
             "outlinewidth": 0,
             "ticks": ""
            },
            "type": "contourcarpet"
           }
          ],
          "heatmap": [
           {
            "colorbar": {
             "outlinewidth": 0,
             "ticks": ""
            },
            "colorscale": [
             [
              0,
              "#0d0887"
             ],
             [
              0.1111111111111111,
              "#46039f"
             ],
             [
              0.2222222222222222,
              "#7201a8"
             ],
             [
              0.3333333333333333,
              "#9c179e"
             ],
             [
              0.4444444444444444,
              "#bd3786"
             ],
             [
              0.5555555555555556,
              "#d8576b"
             ],
             [
              0.6666666666666666,
              "#ed7953"
             ],
             [
              0.7777777777777778,
              "#fb9f3a"
             ],
             [
              0.8888888888888888,
              "#fdca26"
             ],
             [
              1,
              "#f0f921"
             ]
            ],
            "type": "heatmap"
           }
          ],
          "heatmapgl": [
           {
            "colorbar": {
             "outlinewidth": 0,
             "ticks": ""
            },
            "colorscale": [
             [
              0,
              "#0d0887"
             ],
             [
              0.1111111111111111,
              "#46039f"
             ],
             [
              0.2222222222222222,
              "#7201a8"
             ],
             [
              0.3333333333333333,
              "#9c179e"
             ],
             [
              0.4444444444444444,
              "#bd3786"
             ],
             [
              0.5555555555555556,
              "#d8576b"
             ],
             [
              0.6666666666666666,
              "#ed7953"
             ],
             [
              0.7777777777777778,
              "#fb9f3a"
             ],
             [
              0.8888888888888888,
              "#fdca26"
             ],
             [
              1,
              "#f0f921"
             ]
            ],
            "type": "heatmapgl"
           }
          ],
          "histogram": [
           {
            "marker": {
             "pattern": {
              "fillmode": "overlay",
              "size": 10,
              "solidity": 0.2
             }
            },
            "type": "histogram"
           }
          ],
          "histogram2d": [
           {
            "colorbar": {
             "outlinewidth": 0,
             "ticks": ""
            },
            "colorscale": [
             [
              0,
              "#0d0887"
             ],
             [
              0.1111111111111111,
              "#46039f"
             ],
             [
              0.2222222222222222,
              "#7201a8"
             ],
             [
              0.3333333333333333,
              "#9c179e"
             ],
             [
              0.4444444444444444,
              "#bd3786"
             ],
             [
              0.5555555555555556,
              "#d8576b"
             ],
             [
              0.6666666666666666,
              "#ed7953"
             ],
             [
              0.7777777777777778,
              "#fb9f3a"
             ],
             [
              0.8888888888888888,
              "#fdca26"
             ],
             [
              1,
              "#f0f921"
             ]
            ],
            "type": "histogram2d"
           }
          ],
          "histogram2dcontour": [
           {
            "colorbar": {
             "outlinewidth": 0,
             "ticks": ""
            },
            "colorscale": [
             [
              0,
              "#0d0887"
             ],
             [
              0.1111111111111111,
              "#46039f"
             ],
             [
              0.2222222222222222,
              "#7201a8"
             ],
             [
              0.3333333333333333,
              "#9c179e"
             ],
             [
              0.4444444444444444,
              "#bd3786"
             ],
             [
              0.5555555555555556,
              "#d8576b"
             ],
             [
              0.6666666666666666,
              "#ed7953"
             ],
             [
              0.7777777777777778,
              "#fb9f3a"
             ],
             [
              0.8888888888888888,
              "#fdca26"
             ],
             [
              1,
              "#f0f921"
             ]
            ],
            "type": "histogram2dcontour"
           }
          ],
          "mesh3d": [
           {
            "colorbar": {
             "outlinewidth": 0,
             "ticks": ""
            },
            "type": "mesh3d"
           }
          ],
          "parcoords": [
           {
            "line": {
             "colorbar": {
              "outlinewidth": 0,
              "ticks": ""
             }
            },
            "type": "parcoords"
           }
          ],
          "pie": [
           {
            "automargin": true,
            "type": "pie"
           }
          ],
          "scatter": [
           {
            "marker": {
             "colorbar": {
              "outlinewidth": 0,
              "ticks": ""
             }
            },
            "type": "scatter"
           }
          ],
          "scatter3d": [
           {
            "line": {
             "colorbar": {
              "outlinewidth": 0,
              "ticks": ""
             }
            },
            "marker": {
             "colorbar": {
              "outlinewidth": 0,
              "ticks": ""
             }
            },
            "type": "scatter3d"
           }
          ],
          "scattercarpet": [
           {
            "marker": {
             "colorbar": {
              "outlinewidth": 0,
              "ticks": ""
             }
            },
            "type": "scattercarpet"
           }
          ],
          "scattergeo": [
           {
            "marker": {
             "colorbar": {
              "outlinewidth": 0,
              "ticks": ""
             }
            },
            "type": "scattergeo"
           }
          ],
          "scattergl": [
           {
            "marker": {
             "colorbar": {
              "outlinewidth": 0,
              "ticks": ""
             }
            },
            "type": "scattergl"
           }
          ],
          "scattermapbox": [
           {
            "marker": {
             "colorbar": {
              "outlinewidth": 0,
              "ticks": ""
             }
            },
            "type": "scattermapbox"
           }
          ],
          "scatterpolar": [
           {
            "marker": {
             "colorbar": {
              "outlinewidth": 0,
              "ticks": ""
             }
            },
            "type": "scatterpolar"
           }
          ],
          "scatterpolargl": [
           {
            "marker": {
             "colorbar": {
              "outlinewidth": 0,
              "ticks": ""
             }
            },
            "type": "scatterpolargl"
           }
          ],
          "scatterternary": [
           {
            "marker": {
             "colorbar": {
              "outlinewidth": 0,
              "ticks": ""
             }
            },
            "type": "scatterternary"
           }
          ],
          "surface": [
           {
            "colorbar": {
             "outlinewidth": 0,
             "ticks": ""
            },
            "colorscale": [
             [
              0,
              "#0d0887"
             ],
             [
              0.1111111111111111,
              "#46039f"
             ],
             [
              0.2222222222222222,
              "#7201a8"
             ],
             [
              0.3333333333333333,
              "#9c179e"
             ],
             [
              0.4444444444444444,
              "#bd3786"
             ],
             [
              0.5555555555555556,
              "#d8576b"
             ],
             [
              0.6666666666666666,
              "#ed7953"
             ],
             [
              0.7777777777777778,
              "#fb9f3a"
             ],
             [
              0.8888888888888888,
              "#fdca26"
             ],
             [
              1,
              "#f0f921"
             ]
            ],
            "type": "surface"
           }
          ],
          "table": [
           {
            "cells": {
             "fill": {
              "color": "#EBF0F8"
             },
             "line": {
              "color": "white"
             }
            },
            "header": {
             "fill": {
              "color": "#C8D4E3"
             },
             "line": {
              "color": "white"
             }
            },
            "type": "table"
           }
          ]
         },
         "layout": {
          "annotationdefaults": {
           "arrowcolor": "#2a3f5f",
           "arrowhead": 0,
           "arrowwidth": 1
          },
          "autotypenumbers": "strict",
          "coloraxis": {
           "colorbar": {
            "outlinewidth": 0,
            "ticks": ""
           }
          },
          "colorscale": {
           "diverging": [
            [
             0,
             "#8e0152"
            ],
            [
             0.1,
             "#c51b7d"
            ],
            [
             0.2,
             "#de77ae"
            ],
            [
             0.3,
             "#f1b6da"
            ],
            [
             0.4,
             "#fde0ef"
            ],
            [
             0.5,
             "#f7f7f7"
            ],
            [
             0.6,
             "#e6f5d0"
            ],
            [
             0.7,
             "#b8e186"
            ],
            [
             0.8,
             "#7fbc41"
            ],
            [
             0.9,
             "#4d9221"
            ],
            [
             1,
             "#276419"
            ]
           ],
           "sequential": [
            [
             0,
             "#0d0887"
            ],
            [
             0.1111111111111111,
             "#46039f"
            ],
            [
             0.2222222222222222,
             "#7201a8"
            ],
            [
             0.3333333333333333,
             "#9c179e"
            ],
            [
             0.4444444444444444,
             "#bd3786"
            ],
            [
             0.5555555555555556,
             "#d8576b"
            ],
            [
             0.6666666666666666,
             "#ed7953"
            ],
            [
             0.7777777777777778,
             "#fb9f3a"
            ],
            [
             0.8888888888888888,
             "#fdca26"
            ],
            [
             1,
             "#f0f921"
            ]
           ],
           "sequentialminus": [
            [
             0,
             "#0d0887"
            ],
            [
             0.1111111111111111,
             "#46039f"
            ],
            [
             0.2222222222222222,
             "#7201a8"
            ],
            [
             0.3333333333333333,
             "#9c179e"
            ],
            [
             0.4444444444444444,
             "#bd3786"
            ],
            [
             0.5555555555555556,
             "#d8576b"
            ],
            [
             0.6666666666666666,
             "#ed7953"
            ],
            [
             0.7777777777777778,
             "#fb9f3a"
            ],
            [
             0.8888888888888888,
             "#fdca26"
            ],
            [
             1,
             "#f0f921"
            ]
           ]
          },
          "colorway": [
           "#636efa",
           "#EF553B",
           "#00cc96",
           "#ab63fa",
           "#FFA15A",
           "#19d3f3",
           "#FF6692",
           "#B6E880",
           "#FF97FF",
           "#FECB52"
          ],
          "font": {
           "color": "#2a3f5f"
          },
          "geo": {
           "bgcolor": "white",
           "lakecolor": "white",
           "landcolor": "#E5ECF6",
           "showlakes": true,
           "showland": true,
           "subunitcolor": "white"
          },
          "hoverlabel": {
           "align": "left"
          },
          "hovermode": "closest",
          "mapbox": {
           "style": "light"
          },
          "paper_bgcolor": "white",
          "plot_bgcolor": "#E5ECF6",
          "polar": {
           "angularaxis": {
            "gridcolor": "white",
            "linecolor": "white",
            "ticks": ""
           },
           "bgcolor": "#E5ECF6",
           "radialaxis": {
            "gridcolor": "white",
            "linecolor": "white",
            "ticks": ""
           }
          },
          "scene": {
           "xaxis": {
            "backgroundcolor": "#E5ECF6",
            "gridcolor": "white",
            "gridwidth": 2,
            "linecolor": "white",
            "showbackground": true,
            "ticks": "",
            "zerolinecolor": "white"
           },
           "yaxis": {
            "backgroundcolor": "#E5ECF6",
            "gridcolor": "white",
            "gridwidth": 2,
            "linecolor": "white",
            "showbackground": true,
            "ticks": "",
            "zerolinecolor": "white"
           },
           "zaxis": {
            "backgroundcolor": "#E5ECF6",
            "gridcolor": "white",
            "gridwidth": 2,
            "linecolor": "white",
            "showbackground": true,
            "ticks": "",
            "zerolinecolor": "white"
           }
          },
          "shapedefaults": {
           "line": {
            "color": "#2a3f5f"
           }
          },
          "ternary": {
           "aaxis": {
            "gridcolor": "white",
            "linecolor": "white",
            "ticks": ""
           },
           "baxis": {
            "gridcolor": "white",
            "linecolor": "white",
            "ticks": ""
           },
           "bgcolor": "#E5ECF6",
           "caxis": {
            "gridcolor": "white",
            "linecolor": "white",
            "ticks": ""
           }
          },
          "title": {
           "x": 0.05
          },
          "xaxis": {
           "automargin": true,
           "gridcolor": "white",
           "linecolor": "white",
           "ticks": "",
           "title": {
            "standoff": 15
           },
           "zerolinecolor": "white",
           "zerolinewidth": 2
          },
          "yaxis": {
           "automargin": true,
           "gridcolor": "white",
           "linecolor": "white",
           "ticks": "",
           "title": {
            "standoff": 15
           },
           "zerolinecolor": "white",
           "zerolinewidth": 2
          }
         }
        },
        "xaxis": {
         "anchor": "y",
         "domain": [
          0,
          1
         ],
         "type": "linear"
        },
        "yaxis": {
         "anchor": "x",
         "categoryorder": "category descending",
         "domain": [
          0,
          1
         ],
         "title": {
          "text": "task"
         },
         "type": "category"
        }
       }
      }
     },
     "metadata": {},
     "output_type": "display_data"
    }
   ],
   "source": [
    "output_filename = f'outputs/gantt_{name}.png'\n",
    "plot_gantt(tasks, df_traces, output_filename=output_filename)"
   ]
  },
  {
   "cell_type": "code",
   "execution_count": null,
   "metadata": {},
   "outputs": [],
   "source": []
  },
  {
   "cell_type": "code",
   "execution_count": null,
   "metadata": {},
   "outputs": [],
   "source": []
  },
  {
   "cell_type": "code",
   "execution_count": null,
   "metadata": {},
   "outputs": [],
   "source": []
  },
  {
   "cell_type": "code",
   "execution_count": null,
   "metadata": {},
   "outputs": [],
   "source": []
  },
  {
   "cell_type": "code",
   "execution_count": null,
   "metadata": {},
   "outputs": [],
   "source": []
  },
  {
   "cell_type": "code",
   "execution_count": null,
   "metadata": {},
   "outputs": [],
   "source": []
  }
 ],
 "metadata": {
  "kernelspec": {
   "display_name": "Python 3.9.0 ('rllib')",
   "language": "python",
   "name": "python3"
  },
  "language_info": {
   "codemirror_mode": {
    "name": "ipython",
    "version": 3
   },
   "file_extension": ".py",
   "mimetype": "text/x-python",
   "name": "python",
   "nbconvert_exporter": "python",
   "pygments_lexer": "ipython3",
   "version": "3.9.0"
  },
  "orig_nbformat": 4,
  "vscode": {
   "interpreter": {
    "hash": "12d644bfd6a40dbe518adab11d6c05edd9a4e0828820d5bd25e9fd02b594de02"
   }
  }
 },
 "nbformat": 4,
 "nbformat_minor": 2
}
