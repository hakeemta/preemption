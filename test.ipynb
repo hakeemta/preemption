{
 "cells": [
  {
   "cell_type": "code",
   "execution_count": 1,
   "metadata": {},
   "outputs": [],
   "source": [
    "from collections import namedtuple\n",
    "\n",
    "import numpy as np\n",
    "import pandas as pd\n",
    "\n",
    "import plotly.express as px\n",
    "import plotly.graph_objects as go\n",
    "from plotly.subplots import make_subplots\n"
   ]
  },
  {
   "cell_type": "code",
   "execution_count": 2,
   "metadata": {},
   "outputs": [],
   "source": [
    "COLORS = px.colors.qualitative.Alphabet\n",
    "PERIOD = 360"
   ]
  },
  {
   "cell_type": "code",
   "execution_count": 3,
   "metadata": {},
   "outputs": [],
   "source": [
    "class Task:\n",
    "    Parameters = namedtuple('Parameters', 'O C D T A')\n",
    "\n",
    "    def __init__(self, parameters) -> None:\n",
    "        self.parameters = parameters\n",
    "\n",
    "    def __str__(self) -> str:\n",
    "        return str(self.parameters)\n"
   ]
  },
  {
   "cell_type": "code",
   "execution_count": 4,
   "metadata": {},
   "outputs": [],
   "source": [
    "def read_tasks(filename):\n",
    "    tasks = []\n",
    "\n",
    "    with open(filename) as fp:\n",
    "        n = fp.readline()\n",
    "        n = int(n)\n",
    "\n",
    "        for i in range(n):\n",
    "            line = fp.readline()\n",
    "            line = line.strip()\n",
    "            params = [int(v) for v in line.split()]\n",
    "\n",
    "            task = Task( Task.Parameters(*params) )\n",
    "            tasks.append(task)\n",
    "\n",
    "    return tasks"
   ]
  },
  {
   "cell_type": "code",
   "execution_count": 5,
   "metadata": {},
   "outputs": [],
   "source": [
    "def read_traces(filename):\n",
    "    traces = []\n",
    "\n",
    "    with open(filename) as fp:\n",
    "        traces = fp.readline()\n",
    "        traces = traces.split()\n",
    "\n",
    "    traces = np.array(traces, dtype=int)\n",
    "    return traces"
   ]
  },
  {
   "cell_type": "code",
   "execution_count": 6,
   "metadata": {},
   "outputs": [],
   "source": [
    "def compute_H(tasks):\n",
    "    periods = [task.parameters.T for task in tasks]\n",
    "    H = (periods and np.lcm.reduce(periods)) or 0\n",
    "    return H"
   ]
  },
  {
   "cell_type": "code",
   "execution_count": 7,
   "metadata": {},
   "outputs": [],
   "source": [
    "def get_ticks(task, H, for_deadlines=False, n_repeats=1):\n",
    "    ticks = []\n",
    "    offset = task.parameters.O\n",
    "    upper = H\n",
    "    if for_deadlines:\n",
    "        offset += task.parameters.D\n",
    "        upper += task.parameters.D\n",
    "\n",
    "    ticks = np.array( range(offset, (upper * n_repeats), \n",
    "                            task.parameters.T ) )\n",
    "    return ticks"
   ]
  },
  {
   "cell_type": "code",
   "execution_count": 8,
   "metadata": {},
   "outputs": [],
   "source": [
    "def plot_events(i, ticks, theta_per_tick, r=60, symbol=None, size=20):\n",
    "    r = [r] * ticks.size\n",
    "    theta = ticks * theta_per_tick\n",
    "    scatter = go.Scatterpolar(r=r, theta=theta, mode='markers', showlegend=False,\n",
    "                            marker=dict(color=COLORS[i], symbol=symbol, size=20) )\n",
    "\n",
    "    return scatter\n",
    "\n",
    "def plot_task_events(i, task, H, for_deadlines=False):\n",
    "    theta_per_tick = PERIOD / H\n",
    "    symbol = 'star-diamond'\n",
    "    r = 60\n",
    "    \n",
    "    if for_deadlines:\n",
    "        symbol = 'circle'\n",
    "        r = 50\n",
    "\n",
    "    ticks = get_ticks(task, H, for_deadlines=for_deadlines)\n",
    "    scatter = plot_events(i, ticks, theta_per_tick, r, symbol)\n",
    "    return scatter"
   ]
  },
  {
   "cell_type": "code",
   "execution_count": 9,
   "metadata": {},
   "outputs": [],
   "source": [
    "def plot_trace(_id, traces, H):\n",
    "    traces = np.clip(traces, a_min=-1, a_max=100)\n",
    "    trace = np.where(traces[:H] == _id) [0]\n",
    "\n",
    "    theta_per_tick = PERIOD / H\n",
    "    r = [50] * trace.size\n",
    "    theta = ((trace + 0.5) % H) * theta_per_tick\n",
    "\n",
    "    bar = go.Barpolar(r=r, theta=theta, width=theta_per_tick, name=f'Task {_id}',\n",
    "                    marker=dict(color=COLORS[_id-1], line_width=0.2, line_color='white'), \n",
    "                    opacity=0.8)\n",
    "\n",
    "    return bar"
   ]
  },
  {
   "cell_type": "code",
   "execution_count": 10,
   "metadata": {},
   "outputs": [],
   "source": [
    "tasks = read_tasks('data/example1.txt')\n",
    "traces = read_traces('data/trace1.txt')"
   ]
  },
  {
   "cell_type": "code",
   "execution_count": 11,
   "metadata": {},
   "outputs": [],
   "source": [
    "H = compute_H(tasks)\n",
    "n = len(tasks)\n",
    "ticks = np.arange(H)"
   ]
  },
  {
   "cell_type": "code",
   "execution_count": 12,
   "metadata": {},
   "outputs": [
    {
     "data": {
      "application/vnd.plotly.v1+json": {
       "config": {
        "plotlyServerURL": "https://plot.ly"
       },
       "data": [
        {
         "marker": {
          "color": "#AA0DFE",
          "size": 20,
          "symbol": "star-diamond"
         },
         "mode": "markers",
         "r": [
          60,
          60,
          60,
          60,
          60,
          60
         ],
         "showlegend": false,
         "theta": [
          40,
          100,
          160,
          220,
          280,
          340
         ],
         "type": "scatterpolar"
        },
        {
         "marker": {
          "color": "#AA0DFE",
          "size": 20,
          "symbol": "circle"
         },
         "mode": "markers",
         "r": [
          50,
          50,
          50,
          50,
          50,
          50
         ],
         "showlegend": false,
         "theta": [
          80,
          140,
          200,
          260,
          320,
          380
         ],
         "type": "scatterpolar"
        },
        {
         "marker": {
          "color": "#AA0DFE",
          "line": {
           "color": "white",
           "width": 0.2
          }
         },
         "name": "Task 1",
         "opacity": 0.8,
         "r": [
          50,
          50,
          50,
          50,
          50,
          50
         ],
         "theta": [
          50,
          110,
          190,
          230,
          290,
          350
         ],
         "type": "barpolar",
         "width": 20
        },
        {
         "marker": {
          "color": "#3283FE",
          "size": 20,
          "symbol": "star-diamond"
         },
         "mode": "markers",
         "r": [
          60,
          60,
          60
         ],
         "showlegend": false,
         "theta": [
          20,
          140,
          260
         ],
         "type": "scatterpolar"
        },
        {
         "marker": {
          "color": "#3283FE",
          "size": 20,
          "symbol": "circle"
         },
         "mode": "markers",
         "r": [
          50,
          50,
          50
         ],
         "showlegend": false,
         "theta": [
          120,
          240,
          360
         ],
         "type": "scatterpolar"
        },
        {
         "marker": {
          "color": "#3283FE",
          "line": {
           "color": "white",
           "width": 0.2
          }
         },
         "name": "Task 2",
         "opacity": 0.8,
         "r": [
          50,
          50,
          50
         ],
         "theta": [
          30,
          210,
          310
         ],
         "type": "barpolar",
         "width": 20
        },
        {
         "marker": {
          "color": "#85660D",
          "size": 20,
          "symbol": "star-diamond"
         },
         "mode": "markers",
         "r": [
          60,
          60
         ],
         "showlegend": false,
         "theta": [
          0,
          180
         ],
         "type": "scatterpolar"
        },
        {
         "marker": {
          "color": "#85660D",
          "size": 20,
          "symbol": "circle"
         },
         "mode": "markers",
         "r": [
          50,
          50
         ],
         "showlegend": false,
         "theta": [
          180,
          360
         ],
         "type": "scatterpolar"
        },
        {
         "marker": {
          "color": "#85660D",
          "line": {
           "color": "white",
           "width": 0.2
          }
         },
         "name": "Task 3",
         "opacity": 0.8,
         "r": [
          50,
          50,
          50,
          50
         ],
         "theta": [
          10,
          170,
          250,
          270
         ],
         "type": "barpolar",
         "width": 20
        },
        {
         "marker": {
          "color": "#FBE426",
          "line": {
           "color": "white",
           "width": 0.2
          }
         },
         "name": "Task -1",
         "opacity": 0.8,
         "r": [
          50,
          50,
          50,
          50
         ],
         "showlegend": false,
         "theta": [
          70,
          90,
          130,
          150
         ],
         "type": "barpolar",
         "width": 20
        }
       ],
       "layout": {
        "autosize": false,
        "height": 800,
        "polar": {
         "angularaxis": {
          "tickmode": "array",
          "ticks": "outside",
          "ticktext": [
           0,
           1,
           2,
           3,
           4,
           5,
           6,
           7,
           8,
           9,
           10,
           11,
           12,
           13,
           14,
           15,
           16,
           17
          ],
          "tickvals": [
           0,
           20,
           40,
           60,
           80,
           100,
           120,
           140,
           160,
           180,
           200,
           220,
           240,
           260,
           280,
           300,
           320,
           340
          ]
         },
         "radialaxis": {
          "showticklabels": false,
          "ticks": ""
         }
        },
        "template": {},
        "width": 800
       }
      }
     },
     "metadata": {},
     "output_type": "display_data"
    }
   ],
   "source": [
    "fig_polar = go.Figure()\n",
    "\n",
    "for i, task in enumerate(tasks):\n",
    "    scatter_releases = plot_task_events(i, task, H)\n",
    "    scatter_deadlines = plot_task_events(i, task, H, for_deadlines=True)\n",
    "\n",
    "    bar = plot_trace((i + 1), traces, H)\n",
    "\n",
    "    fig_polar.add_trace(scatter_releases)\n",
    "    fig_polar.add_trace(scatter_deadlines)\n",
    "    fig_polar.add_trace(bar)\n",
    "\n",
    "# Add cost trace\n",
    "bar = plot_trace(-1, traces, H)\n",
    "bar.showlegend = False\n",
    "fig_polar.add_trace(bar)\n",
    "\n",
    "fig_polar.update_layout(template=None, autosize=False, width=800, height=800,\n",
    "                        polar=dict(angularaxis=dict(ticks='outside',\n",
    "                                            # type='category', period=H,\n",
    "                                            tickmode='array', tickvals=ticks * (360 / H), ticktext=ticks),\n",
    "                                    radialaxis = dict(showticklabels=False, ticks='') ) )\n",
    "\n",
    "fig_polar.show()"
   ]
  },
  {
   "cell_type": "code",
   "execution_count": 13,
   "metadata": {},
   "outputs": [],
   "source": [
    "df_traces = pd.DataFrame(traces, columns=['id'])\n",
    "\n",
    "df_traces['dt'] = df_traces['id'].ne( df_traces['id'].shift() ).cumsum()\n",
    "df_traces = df_traces.groupby('dt', as_index=False).aggregate({'id': 'first', 'dt': 'count'})\n",
    "\n",
    "df_traces['end'] = df_traces['dt'].cumsum()\n",
    "df_traces['start'] = df_traces['end'] - df_traces['dt']\n",
    "\n",
    "df_traces['task'] = df_traces['id'].abs()\n",
    "df_traces = df_traces[df_traces['id'] != 0]\n",
    "df_traces.loc[ df_traces['id'] < 0, 'id'] = 0\n",
    "df_traces[['id']] = df_traces[['id']].astype(str)"
   ]
  },
  {
   "cell_type": "code",
   "execution_count": null,
   "metadata": {},
   "outputs": [],
   "source": []
  },
  {
   "cell_type": "code",
   "execution_count": 51,
   "metadata": {},
   "outputs": [
    {
     "data": {
      "application/vnd.plotly.v1+json": {
       "config": {
        "plotlyServerURL": "https://plot.ly"
       },
       "data": [
        {
         "alignmentgroup": "True",
         "base": [
          0,
          8,
          12,
          18,
          26,
          30
         ],
         "hovertemplate": "id=3<br>start=%{base}<br>end=%{x}<br>task=%{y}<extra></extra>",
         "legendgroup": "3",
         "marker": {
          "color": "#85660D",
          "line": {
           "color": "black",
           "width": 1
          }
         },
         "name": "3",
         "offsetgroup": "3",
         "orientation": "h",
         "showlegend": true,
         "textposition": "auto",
         "type": "bar",
         "width": 0.5,
         "x": [
          1,
          1,
          2,
          1,
          1,
          2
         ],
         "xaxis": "x",
         "y": [
          3,
          3,
          3,
          3,
          3,
          3
         ],
         "yaxis": "y"
        },
        {
         "alignmentgroup": "True",
         "base": [
          1,
          10,
          15,
          19,
          28
         ],
         "hovertemplate": "id=2<br>start=%{base}<br>end=%{x}<br>task=%{y}<extra></extra>",
         "legendgroup": "2",
         "marker": {
          "color": "#3283FE",
          "line": {
           "color": "black",
           "width": 1
          }
         },
         "name": "2",
         "offsetgroup": "2",
         "orientation": "h",
         "showlegend": true,
         "textposition": "auto",
         "type": "bar",
         "width": 0.5,
         "x": [
          1,
          1,
          1,
          1,
          1
         ],
         "xaxis": "x",
         "y": [
          2,
          2,
          2,
          2,
          2
         ],
         "yaxis": "y"
        },
        {
         "alignmentgroup": "True",
         "base": [
          2,
          5,
          9,
          11,
          14,
          17,
          20,
          23,
          27,
          29
         ],
         "hovertemplate": "id=1<br>start=%{base}<br>end=%{x}<br>task=%{y}<extra></extra>",
         "legendgroup": "1",
         "marker": {
          "color": "#AA0DFE",
          "line": {
           "color": "black",
           "width": 1
          }
         },
         "name": "1",
         "offsetgroup": "1",
         "orientation": "h",
         "showlegend": true,
         "textposition": "auto",
         "type": "bar",
         "width": 0.5,
         "x": [
          1,
          1,
          1,
          1,
          1,
          1,
          1,
          1,
          1,
          1
         ],
         "xaxis": "x",
         "y": [
          1,
          1,
          1,
          1,
          1,
          1,
          1,
          1,
          1,
          1
         ],
         "yaxis": "y"
        },
        {
         "alignmentgroup": "True",
         "base": [
          3,
          6,
          21,
          24
         ],
         "hovertemplate": "id=0<br>start=%{base}<br>end=%{x}<br>task=%{y}<extra></extra>",
         "legendgroup": "0",
         "marker": {
          "color": "#FA0087",
          "line": {
           "color": "black",
           "width": 1
          }
         },
         "name": "0",
         "offsetgroup": "0",
         "orientation": "h",
         "showlegend": false,
         "textposition": "auto",
         "type": "bar",
         "width": 0.5,
         "x": [
          2,
          2,
          2,
          2
         ],
         "xaxis": "x",
         "y": [
          3,
          3,
          3,
          3
         ],
         "yaxis": "y"
        }
       ],
       "layout": {
        "annotations": [
         {
          "arrowcolor": "#85660D",
          "arrowhead": 2,
          "arrowwidth": 2,
          "ax": 0,
          "axref": "x",
          "ay": -0.35,
          "ayref": "y",
          "showarrow": true,
          "x": 0,
          "y": 0.5
         },
         {
          "arrowcolor": "#85660D",
          "arrowhead": 2,
          "arrowwidth": 2,
          "ax": 9,
          "axref": "x",
          "ay": -0.35,
          "ayref": "y",
          "showarrow": true,
          "x": 9,
          "y": 0.5
         },
         {
          "arrowcolor": "#85660D",
          "arrowhead": 2,
          "arrowwidth": 2,
          "ax": 18,
          "axref": "x",
          "ay": -0.35,
          "ayref": "y",
          "showarrow": true,
          "x": 18,
          "y": 0.5
         },
         {
          "arrowcolor": "#85660D",
          "arrowhead": 2,
          "arrowwidth": 2,
          "ax": 27,
          "axref": "x",
          "ay": -0.35,
          "ayref": "y",
          "showarrow": true,
          "x": 27,
          "y": 0.5
         },
         {
          "arrowcolor": "#3283FE",
          "arrowhead": 2,
          "arrowwidth": 2,
          "ax": 1,
          "axref": "x",
          "ay": 0.65,
          "ayref": "y",
          "showarrow": true,
          "x": 1,
          "y": 1.5
         },
         {
          "arrowcolor": "#3283FE",
          "arrowhead": 2,
          "arrowwidth": 2,
          "ax": 7,
          "axref": "x",
          "ay": 0.65,
          "ayref": "y",
          "showarrow": true,
          "x": 7,
          "y": 1.5
         },
         {
          "arrowcolor": "#3283FE",
          "arrowhead": 2,
          "arrowwidth": 2,
          "ax": 13,
          "axref": "x",
          "ay": 0.65,
          "ayref": "y",
          "showarrow": true,
          "x": 13,
          "y": 1.5
         },
         {
          "arrowcolor": "#3283FE",
          "arrowhead": 2,
          "arrowwidth": 2,
          "ax": 19,
          "axref": "x",
          "ay": 0.65,
          "ayref": "y",
          "showarrow": true,
          "x": 19,
          "y": 1.5
         },
         {
          "arrowcolor": "#3283FE",
          "arrowhead": 2,
          "arrowwidth": 2,
          "ax": 25,
          "axref": "x",
          "ay": 0.65,
          "ayref": "y",
          "showarrow": true,
          "x": 25,
          "y": 1.5
         },
         {
          "arrowcolor": "#3283FE",
          "arrowhead": 2,
          "arrowwidth": 2,
          "ax": 31,
          "axref": "x",
          "ay": 0.65,
          "ayref": "y",
          "showarrow": true,
          "x": 31,
          "y": 1.5
         },
         {
          "arrowcolor": "#AA0DFE",
          "arrowhead": 2,
          "arrowwidth": 2,
          "ax": 2,
          "axref": "x",
          "ay": 1.65,
          "ayref": "y",
          "showarrow": true,
          "x": 2,
          "y": 2.5
         },
         {
          "arrowcolor": "#AA0DFE",
          "arrowhead": 2,
          "arrowwidth": 2,
          "ax": 5,
          "axref": "x",
          "ay": 1.65,
          "ayref": "y",
          "showarrow": true,
          "x": 5,
          "y": 2.5
         },
         {
          "arrowcolor": "#AA0DFE",
          "arrowhead": 2,
          "arrowwidth": 2,
          "ax": 8,
          "axref": "x",
          "ay": 1.65,
          "ayref": "y",
          "showarrow": true,
          "x": 8,
          "y": 2.5
         },
         {
          "arrowcolor": "#AA0DFE",
          "arrowhead": 2,
          "arrowwidth": 2,
          "ax": 11,
          "axref": "x",
          "ay": 1.65,
          "ayref": "y",
          "showarrow": true,
          "x": 11,
          "y": 2.5
         },
         {
          "arrowcolor": "#AA0DFE",
          "arrowhead": 2,
          "arrowwidth": 2,
          "ax": 14,
          "axref": "x",
          "ay": 1.65,
          "ayref": "y",
          "showarrow": true,
          "x": 14,
          "y": 2.5
         },
         {
          "arrowcolor": "#AA0DFE",
          "arrowhead": 2,
          "arrowwidth": 2,
          "ax": 17,
          "axref": "x",
          "ay": 1.65,
          "ayref": "y",
          "showarrow": true,
          "x": 17,
          "y": 2.5
         },
         {
          "arrowcolor": "#AA0DFE",
          "arrowhead": 2,
          "arrowwidth": 2,
          "ax": 20,
          "axref": "x",
          "ay": 1.65,
          "ayref": "y",
          "showarrow": true,
          "x": 20,
          "y": 2.5
         },
         {
          "arrowcolor": "#AA0DFE",
          "arrowhead": 2,
          "arrowwidth": 2,
          "ax": 23,
          "axref": "x",
          "ay": 1.65,
          "ayref": "y",
          "showarrow": true,
          "x": 23,
          "y": 2.5
         },
         {
          "arrowcolor": "#AA0DFE",
          "arrowhead": 2,
          "arrowwidth": 2,
          "ax": 26,
          "axref": "x",
          "ay": 1.65,
          "ayref": "y",
          "showarrow": true,
          "x": 26,
          "y": 2.5
         },
         {
          "arrowcolor": "#AA0DFE",
          "arrowhead": 2,
          "arrowwidth": 2,
          "ax": 29,
          "axref": "x",
          "ay": 1.65,
          "ayref": "y",
          "showarrow": true,
          "x": 29,
          "y": 2.5
         },
         {
          "arrowcolor": "#AA0DFE",
          "arrowhead": 2,
          "arrowwidth": 2,
          "ax": 32,
          "axref": "x",
          "ay": 1.65,
          "ayref": "y",
          "showarrow": true,
          "x": 32,
          "y": 2.5
         }
        ],
        "barmode": "overlay",
        "legend": {
         "title": {
          "text": "id"
         },
         "tracegroupgap": 0
        },
        "margin": {
         "t": 60
        },
        "shapes": [
         {
          "type": "line",
          "x0": 0,
          "x1": 1,
          "xref": "x domain",
          "y0": 1.75,
          "y1": 1.75,
          "yref": "y"
         },
         {
          "fillcolor": "#85660D",
          "line": {
           "color": "#85660D"
          },
          "type": "circle",
          "x0": 9,
          "x1": 9.25,
          "xref": "x",
          "y0": -0.3,
          "y1": -0.2,
          "yref": "y"
         },
         {
          "fillcolor": "#85660D",
          "line": {
           "color": "#85660D"
          },
          "type": "circle",
          "x0": 18,
          "x1": 18.25,
          "xref": "x",
          "y0": -0.3,
          "y1": -0.2,
          "yref": "y"
         },
         {
          "fillcolor": "#85660D",
          "line": {
           "color": "#85660D"
          },
          "type": "circle",
          "x0": 27,
          "x1": 27.25,
          "xref": "x",
          "y0": -0.3,
          "y1": -0.2,
          "yref": "y"
         },
         {
          "type": "line",
          "x0": 0,
          "x1": 1,
          "xref": "x domain",
          "y0": 0.75,
          "y1": 0.75,
          "yref": "y"
         },
         {
          "fillcolor": "#3283FE",
          "line": {
           "color": "#3283FE"
          },
          "type": "circle",
          "x0": 6,
          "x1": 6.25,
          "xref": "x",
          "y0": 0.7,
          "y1": 0.8,
          "yref": "y"
         },
         {
          "fillcolor": "#3283FE",
          "line": {
           "color": "#3283FE"
          },
          "type": "circle",
          "x0": 12,
          "x1": 12.25,
          "xref": "x",
          "y0": 0.7,
          "y1": 0.8,
          "yref": "y"
         },
         {
          "fillcolor": "#3283FE",
          "line": {
           "color": "#3283FE"
          },
          "type": "circle",
          "x0": 18,
          "x1": 18.25,
          "xref": "x",
          "y0": 0.7,
          "y1": 0.8,
          "yref": "y"
         },
         {
          "fillcolor": "#3283FE",
          "line": {
           "color": "#3283FE"
          },
          "type": "circle",
          "x0": 24,
          "x1": 24.25,
          "xref": "x",
          "y0": 0.7,
          "y1": 0.8,
          "yref": "y"
         },
         {
          "fillcolor": "#3283FE",
          "line": {
           "color": "#3283FE"
          },
          "type": "circle",
          "x0": 30,
          "x1": 30.25,
          "xref": "x",
          "y0": 0.7,
          "y1": 0.8,
          "yref": "y"
         },
         {
          "type": "line",
          "x0": 0,
          "x1": 1,
          "xref": "x domain",
          "y0": -0.25,
          "y1": -0.25,
          "yref": "y"
         },
         {
          "fillcolor": "#AA0DFE",
          "line": {
           "color": "#AA0DFE"
          },
          "type": "circle",
          "x0": 4,
          "x1": 4.25,
          "xref": "x",
          "y0": 1.7,
          "y1": 1.8,
          "yref": "y"
         },
         {
          "fillcolor": "#AA0DFE",
          "line": {
           "color": "#AA0DFE"
          },
          "type": "circle",
          "x0": 7,
          "x1": 7.25,
          "xref": "x",
          "y0": 1.7,
          "y1": 1.8,
          "yref": "y"
         },
         {
          "fillcolor": "#AA0DFE",
          "line": {
           "color": "#AA0DFE"
          },
          "type": "circle",
          "x0": 10,
          "x1": 10.25,
          "xref": "x",
          "y0": 1.7,
          "y1": 1.8,
          "yref": "y"
         },
         {
          "fillcolor": "#AA0DFE",
          "line": {
           "color": "#AA0DFE"
          },
          "type": "circle",
          "x0": 13,
          "x1": 13.25,
          "xref": "x",
          "y0": 1.7,
          "y1": 1.8,
          "yref": "y"
         },
         {
          "fillcolor": "#AA0DFE",
          "line": {
           "color": "#AA0DFE"
          },
          "type": "circle",
          "x0": 16,
          "x1": 16.25,
          "xref": "x",
          "y0": 1.7,
          "y1": 1.8,
          "yref": "y"
         },
         {
          "fillcolor": "#AA0DFE",
          "line": {
           "color": "#AA0DFE"
          },
          "type": "circle",
          "x0": 19,
          "x1": 19.25,
          "xref": "x",
          "y0": 1.7,
          "y1": 1.8,
          "yref": "y"
         },
         {
          "fillcolor": "#AA0DFE",
          "line": {
           "color": "#AA0DFE"
          },
          "type": "circle",
          "x0": 22,
          "x1": 22.25,
          "xref": "x",
          "y0": 1.7,
          "y1": 1.8,
          "yref": "y"
         },
         {
          "fillcolor": "#AA0DFE",
          "line": {
           "color": "#AA0DFE"
          },
          "type": "circle",
          "x0": 25,
          "x1": 25.25,
          "xref": "x",
          "y0": 1.7,
          "y1": 1.8,
          "yref": "y"
         },
         {
          "fillcolor": "#AA0DFE",
          "line": {
           "color": "#AA0DFE"
          },
          "type": "circle",
          "x0": 28,
          "x1": 28.25,
          "xref": "x",
          "y0": 1.7,
          "y1": 1.8,
          "yref": "y"
         },
         {
          "fillcolor": "#AA0DFE",
          "line": {
           "color": "#AA0DFE"
          },
          "type": "circle",
          "x0": 31,
          "x1": 31.25,
          "xref": "x",
          "y0": 1.7,
          "y1": 1.8,
          "yref": "y"
         }
        ],
        "template": {
         "data": {
          "bar": [
           {
            "error_x": {
             "color": "#2a3f5f"
            },
            "error_y": {
             "color": "#2a3f5f"
            },
            "marker": {
             "line": {
              "color": "#E5ECF6",
              "width": 0.5
             },
             "pattern": {
              "fillmode": "overlay",
              "size": 10,
              "solidity": 0.2
             }
            },
            "type": "bar"
           }
          ],
          "barpolar": [
           {
            "marker": {
             "line": {
              "color": "#E5ECF6",
              "width": 0.5
             },
             "pattern": {
              "fillmode": "overlay",
              "size": 10,
              "solidity": 0.2
             }
            },
            "type": "barpolar"
           }
          ],
          "carpet": [
           {
            "aaxis": {
             "endlinecolor": "#2a3f5f",
             "gridcolor": "white",
             "linecolor": "white",
             "minorgridcolor": "white",
             "startlinecolor": "#2a3f5f"
            },
            "baxis": {
             "endlinecolor": "#2a3f5f",
             "gridcolor": "white",
             "linecolor": "white",
             "minorgridcolor": "white",
             "startlinecolor": "#2a3f5f"
            },
            "type": "carpet"
           }
          ],
          "choropleth": [
           {
            "colorbar": {
             "outlinewidth": 0,
             "ticks": ""
            },
            "type": "choropleth"
           }
          ],
          "contour": [
           {
            "colorbar": {
             "outlinewidth": 0,
             "ticks": ""
            },
            "colorscale": [
             [
              0,
              "#0d0887"
             ],
             [
              0.1111111111111111,
              "#46039f"
             ],
             [
              0.2222222222222222,
              "#7201a8"
             ],
             [
              0.3333333333333333,
              "#9c179e"
             ],
             [
              0.4444444444444444,
              "#bd3786"
             ],
             [
              0.5555555555555556,
              "#d8576b"
             ],
             [
              0.6666666666666666,
              "#ed7953"
             ],
             [
              0.7777777777777778,
              "#fb9f3a"
             ],
             [
              0.8888888888888888,
              "#fdca26"
             ],
             [
              1,
              "#f0f921"
             ]
            ],
            "type": "contour"
           }
          ],
          "contourcarpet": [
           {
            "colorbar": {
             "outlinewidth": 0,
             "ticks": ""
            },
            "type": "contourcarpet"
           }
          ],
          "heatmap": [
           {
            "colorbar": {
             "outlinewidth": 0,
             "ticks": ""
            },
            "colorscale": [
             [
              0,
              "#0d0887"
             ],
             [
              0.1111111111111111,
              "#46039f"
             ],
             [
              0.2222222222222222,
              "#7201a8"
             ],
             [
              0.3333333333333333,
              "#9c179e"
             ],
             [
              0.4444444444444444,
              "#bd3786"
             ],
             [
              0.5555555555555556,
              "#d8576b"
             ],
             [
              0.6666666666666666,
              "#ed7953"
             ],
             [
              0.7777777777777778,
              "#fb9f3a"
             ],
             [
              0.8888888888888888,
              "#fdca26"
             ],
             [
              1,
              "#f0f921"
             ]
            ],
            "type": "heatmap"
           }
          ],
          "heatmapgl": [
           {
            "colorbar": {
             "outlinewidth": 0,
             "ticks": ""
            },
            "colorscale": [
             [
              0,
              "#0d0887"
             ],
             [
              0.1111111111111111,
              "#46039f"
             ],
             [
              0.2222222222222222,
              "#7201a8"
             ],
             [
              0.3333333333333333,
              "#9c179e"
             ],
             [
              0.4444444444444444,
              "#bd3786"
             ],
             [
              0.5555555555555556,
              "#d8576b"
             ],
             [
              0.6666666666666666,
              "#ed7953"
             ],
             [
              0.7777777777777778,
              "#fb9f3a"
             ],
             [
              0.8888888888888888,
              "#fdca26"
             ],
             [
              1,
              "#f0f921"
             ]
            ],
            "type": "heatmapgl"
           }
          ],
          "histogram": [
           {
            "marker": {
             "pattern": {
              "fillmode": "overlay",
              "size": 10,
              "solidity": 0.2
             }
            },
            "type": "histogram"
           }
          ],
          "histogram2d": [
           {
            "colorbar": {
             "outlinewidth": 0,
             "ticks": ""
            },
            "colorscale": [
             [
              0,
              "#0d0887"
             ],
             [
              0.1111111111111111,
              "#46039f"
             ],
             [
              0.2222222222222222,
              "#7201a8"
             ],
             [
              0.3333333333333333,
              "#9c179e"
             ],
             [
              0.4444444444444444,
              "#bd3786"
             ],
             [
              0.5555555555555556,
              "#d8576b"
             ],
             [
              0.6666666666666666,
              "#ed7953"
             ],
             [
              0.7777777777777778,
              "#fb9f3a"
             ],
             [
              0.8888888888888888,
              "#fdca26"
             ],
             [
              1,
              "#f0f921"
             ]
            ],
            "type": "histogram2d"
           }
          ],
          "histogram2dcontour": [
           {
            "colorbar": {
             "outlinewidth": 0,
             "ticks": ""
            },
            "colorscale": [
             [
              0,
              "#0d0887"
             ],
             [
              0.1111111111111111,
              "#46039f"
             ],
             [
              0.2222222222222222,
              "#7201a8"
             ],
             [
              0.3333333333333333,
              "#9c179e"
             ],
             [
              0.4444444444444444,
              "#bd3786"
             ],
             [
              0.5555555555555556,
              "#d8576b"
             ],
             [
              0.6666666666666666,
              "#ed7953"
             ],
             [
              0.7777777777777778,
              "#fb9f3a"
             ],
             [
              0.8888888888888888,
              "#fdca26"
             ],
             [
              1,
              "#f0f921"
             ]
            ],
            "type": "histogram2dcontour"
           }
          ],
          "mesh3d": [
           {
            "colorbar": {
             "outlinewidth": 0,
             "ticks": ""
            },
            "type": "mesh3d"
           }
          ],
          "parcoords": [
           {
            "line": {
             "colorbar": {
              "outlinewidth": 0,
              "ticks": ""
             }
            },
            "type": "parcoords"
           }
          ],
          "pie": [
           {
            "automargin": true,
            "type": "pie"
           }
          ],
          "scatter": [
           {
            "marker": {
             "colorbar": {
              "outlinewidth": 0,
              "ticks": ""
             }
            },
            "type": "scatter"
           }
          ],
          "scatter3d": [
           {
            "line": {
             "colorbar": {
              "outlinewidth": 0,
              "ticks": ""
             }
            },
            "marker": {
             "colorbar": {
              "outlinewidth": 0,
              "ticks": ""
             }
            },
            "type": "scatter3d"
           }
          ],
          "scattercarpet": [
           {
            "marker": {
             "colorbar": {
              "outlinewidth": 0,
              "ticks": ""
             }
            },
            "type": "scattercarpet"
           }
          ],
          "scattergeo": [
           {
            "marker": {
             "colorbar": {
              "outlinewidth": 0,
              "ticks": ""
             }
            },
            "type": "scattergeo"
           }
          ],
          "scattergl": [
           {
            "marker": {
             "colorbar": {
              "outlinewidth": 0,
              "ticks": ""
             }
            },
            "type": "scattergl"
           }
          ],
          "scattermapbox": [
           {
            "marker": {
             "colorbar": {
              "outlinewidth": 0,
              "ticks": ""
             }
            },
            "type": "scattermapbox"
           }
          ],
          "scatterpolar": [
           {
            "marker": {
             "colorbar": {
              "outlinewidth": 0,
              "ticks": ""
             }
            },
            "type": "scatterpolar"
           }
          ],
          "scatterpolargl": [
           {
            "marker": {
             "colorbar": {
              "outlinewidth": 0,
              "ticks": ""
             }
            },
            "type": "scatterpolargl"
           }
          ],
          "scatterternary": [
           {
            "marker": {
             "colorbar": {
              "outlinewidth": 0,
              "ticks": ""
             }
            },
            "type": "scatterternary"
           }
          ],
          "surface": [
           {
            "colorbar": {
             "outlinewidth": 0,
             "ticks": ""
            },
            "colorscale": [
             [
              0,
              "#0d0887"
             ],
             [
              0.1111111111111111,
              "#46039f"
             ],
             [
              0.2222222222222222,
              "#7201a8"
             ],
             [
              0.3333333333333333,
              "#9c179e"
             ],
             [
              0.4444444444444444,
              "#bd3786"
             ],
             [
              0.5555555555555556,
              "#d8576b"
             ],
             [
              0.6666666666666666,
              "#ed7953"
             ],
             [
              0.7777777777777778,
              "#fb9f3a"
             ],
             [
              0.8888888888888888,
              "#fdca26"
             ],
             [
              1,
              "#f0f921"
             ]
            ],
            "type": "surface"
           }
          ],
          "table": [
           {
            "cells": {
             "fill": {
              "color": "#EBF0F8"
             },
             "line": {
              "color": "white"
             }
            },
            "header": {
             "fill": {
              "color": "#C8D4E3"
             },
             "line": {
              "color": "white"
             }
            },
            "type": "table"
           }
          ]
         },
         "layout": {
          "annotationdefaults": {
           "arrowcolor": "#2a3f5f",
           "arrowhead": 0,
           "arrowwidth": 1
          },
          "autotypenumbers": "strict",
          "coloraxis": {
           "colorbar": {
            "outlinewidth": 0,
            "ticks": ""
           }
          },
          "colorscale": {
           "diverging": [
            [
             0,
             "#8e0152"
            ],
            [
             0.1,
             "#c51b7d"
            ],
            [
             0.2,
             "#de77ae"
            ],
            [
             0.3,
             "#f1b6da"
            ],
            [
             0.4,
             "#fde0ef"
            ],
            [
             0.5,
             "#f7f7f7"
            ],
            [
             0.6,
             "#e6f5d0"
            ],
            [
             0.7,
             "#b8e186"
            ],
            [
             0.8,
             "#7fbc41"
            ],
            [
             0.9,
             "#4d9221"
            ],
            [
             1,
             "#276419"
            ]
           ],
           "sequential": [
            [
             0,
             "#0d0887"
            ],
            [
             0.1111111111111111,
             "#46039f"
            ],
            [
             0.2222222222222222,
             "#7201a8"
            ],
            [
             0.3333333333333333,
             "#9c179e"
            ],
            [
             0.4444444444444444,
             "#bd3786"
            ],
            [
             0.5555555555555556,
             "#d8576b"
            ],
            [
             0.6666666666666666,
             "#ed7953"
            ],
            [
             0.7777777777777778,
             "#fb9f3a"
            ],
            [
             0.8888888888888888,
             "#fdca26"
            ],
            [
             1,
             "#f0f921"
            ]
           ],
           "sequentialminus": [
            [
             0,
             "#0d0887"
            ],
            [
             0.1111111111111111,
             "#46039f"
            ],
            [
             0.2222222222222222,
             "#7201a8"
            ],
            [
             0.3333333333333333,
             "#9c179e"
            ],
            [
             0.4444444444444444,
             "#bd3786"
            ],
            [
             0.5555555555555556,
             "#d8576b"
            ],
            [
             0.6666666666666666,
             "#ed7953"
            ],
            [
             0.7777777777777778,
             "#fb9f3a"
            ],
            [
             0.8888888888888888,
             "#fdca26"
            ],
            [
             1,
             "#f0f921"
            ]
           ]
          },
          "colorway": [
           "#636efa",
           "#EF553B",
           "#00cc96",
           "#ab63fa",
           "#FFA15A",
           "#19d3f3",
           "#FF6692",
           "#B6E880",
           "#FF97FF",
           "#FECB52"
          ],
          "font": {
           "color": "#2a3f5f"
          },
          "geo": {
           "bgcolor": "white",
           "lakecolor": "white",
           "landcolor": "#E5ECF6",
           "showlakes": true,
           "showland": true,
           "subunitcolor": "white"
          },
          "hoverlabel": {
           "align": "left"
          },
          "hovermode": "closest",
          "mapbox": {
           "style": "light"
          },
          "paper_bgcolor": "white",
          "plot_bgcolor": "#E5ECF6",
          "polar": {
           "angularaxis": {
            "gridcolor": "white",
            "linecolor": "white",
            "ticks": ""
           },
           "bgcolor": "#E5ECF6",
           "radialaxis": {
            "gridcolor": "white",
            "linecolor": "white",
            "ticks": ""
           }
          },
          "scene": {
           "xaxis": {
            "backgroundcolor": "#E5ECF6",
            "gridcolor": "white",
            "gridwidth": 2,
            "linecolor": "white",
            "showbackground": true,
            "ticks": "",
            "zerolinecolor": "white"
           },
           "yaxis": {
            "backgroundcolor": "#E5ECF6",
            "gridcolor": "white",
            "gridwidth": 2,
            "linecolor": "white",
            "showbackground": true,
            "ticks": "",
            "zerolinecolor": "white"
           },
           "zaxis": {
            "backgroundcolor": "#E5ECF6",
            "gridcolor": "white",
            "gridwidth": 2,
            "linecolor": "white",
            "showbackground": true,
            "ticks": "",
            "zerolinecolor": "white"
           }
          },
          "shapedefaults": {
           "line": {
            "color": "#2a3f5f"
           }
          },
          "ternary": {
           "aaxis": {
            "gridcolor": "white",
            "linecolor": "white",
            "ticks": ""
           },
           "baxis": {
            "gridcolor": "white",
            "linecolor": "white",
            "ticks": ""
           },
           "bgcolor": "#E5ECF6",
           "caxis": {
            "gridcolor": "white",
            "linecolor": "white",
            "ticks": ""
           }
          },
          "title": {
           "x": 0.05
          },
          "xaxis": {
           "automargin": true,
           "gridcolor": "white",
           "linecolor": "white",
           "ticks": "",
           "title": {
            "standoff": 15
           },
           "zerolinecolor": "white",
           "zerolinewidth": 2
          },
          "yaxis": {
           "automargin": true,
           "gridcolor": "white",
           "linecolor": "white",
           "ticks": "",
           "title": {
            "standoff": 15
           },
           "zerolinecolor": "white",
           "zerolinewidth": 2
          }
         }
        },
        "xaxis": {
         "anchor": "y",
         "domain": [
          0,
          1
         ],
         "type": "linear"
        },
        "yaxis": {
         "anchor": "x",
         "categoryorder": "category descending",
         "domain": [
          0,
          1
         ],
         "title": {
          "text": "task"
         },
         "type": "category"
        }
       }
      }
     },
     "metadata": {},
     "output_type": "display_data"
    }
   ],
   "source": [
    "fig_gantt = px.timeline(df_traces, x_start='start', x_end='end', y='task', \n",
    "                        color='id', color_discrete_sequence=COLORS)\n",
    "fig_gantt.update_traces(marker=dict(line_color='black', line_width=1))\n",
    "    \n",
    "y_offset = -0.25\n",
    "def plot_events_gantt(i, ticks, for_deadlines=False):\n",
    "    y = n - (i + 1) + y_offset\n",
    "    for t in ticks:\n",
    "        if for_deadlines:\n",
    "            fig_gantt.add_shape(type='circle', x0=t, y0=(y - 0.05), x1=(t + 0.25), y1=(y + 0.05), \n",
    "                                xref='x', yref='y', \n",
    "                                line_color=COLORS[i], fillcolor=COLORS[i])\n",
    "        else:\n",
    "            fig_gantt.add_annotation(x=t, y=(y + 0.75), ax=t, ay=(y - 0.1), \n",
    "                                    axref='x', ayref='y',\n",
    "                                    showarrow=True, arrowhead=2, arrowwidth=2, arrowcolor=COLORS[i])\n",
    "\n",
    "def plot_task_events_gantt(i, task, H, for_deadlines=False, size=None):\n",
    "    if size is None:\n",
    "        size = H\n",
    "    n_repeats = (size // H) + 1\n",
    "\n",
    "    ticks = get_ticks(task, H, for_deadlines=for_deadlines, n_repeats=n_repeats)\n",
    "    ticks = ticks[ ticks <= size]\n",
    "    plot_events_gantt(i, ticks, for_deadlines)\n",
    "\n",
    "for data in fig_gantt.data:\n",
    "    data.width = 0.5\n",
    "    filtered = df_traces['id'] == data.name\n",
    "\n",
    "    if data.name == '0':\n",
    "        data.showlegend = False\n",
    "\n",
    "    data.base = df_traces[filtered]['start'].tolist()\n",
    "    data.x = df_traces[filtered]['dt'].tolist()\n",
    "    data.y = df_traces[filtered]['task'].tolist()\n",
    "\n",
    "    i = int(data.name) - 1\n",
    "    data.marker.color = COLORS[i]\n",
    "\n",
    "    if i == -1:\n",
    "        continue\n",
    "\n",
    "    # Add datum lines\n",
    "    fig_gantt.add_hline(y=(i + y_offset) )\n",
    "    \n",
    "    # Add events\n",
    "    plot_task_events_gantt(i, tasks[i], H, size=traces.size)\n",
    "    plot_task_events_gantt(i, tasks[i], H, for_deadlines=True, size=traces.size)\n",
    "\n",
    "fig_gantt.update_xaxes(type='linear')\n",
    "fig_gantt.update_yaxes(type='category', categoryorder='category descending')\n",
    "fig_gantt.show()"
   ]
  },
  {
   "cell_type": "code",
   "execution_count": null,
   "metadata": {},
   "outputs": [],
   "source": []
  },
  {
   "cell_type": "code",
   "execution_count": null,
   "metadata": {},
   "outputs": [],
   "source": []
  },
  {
   "cell_type": "code",
   "execution_count": null,
   "metadata": {},
   "outputs": [],
   "source": []
  },
  {
   "cell_type": "code",
   "execution_count": null,
   "metadata": {},
   "outputs": [],
   "source": []
  },
  {
   "cell_type": "code",
   "execution_count": null,
   "metadata": {},
   "outputs": [],
   "source": []
  },
  {
   "cell_type": "code",
   "execution_count": null,
   "metadata": {},
   "outputs": [],
   "source": []
  }
 ],
 "metadata": {
  "kernelspec": {
   "display_name": "Python 3.9.0 ('rllib')",
   "language": "python",
   "name": "python3"
  },
  "language_info": {
   "codemirror_mode": {
    "name": "ipython",
    "version": 3
   },
   "file_extension": ".py",
   "mimetype": "text/x-python",
   "name": "python",
   "nbconvert_exporter": "python",
   "pygments_lexer": "ipython3",
   "version": "3.9.0"
  },
  "orig_nbformat": 4,
  "vscode": {
   "interpreter": {
    "hash": "12d644bfd6a40dbe518adab11d6c05edd9a4e0828820d5bd25e9fd02b594de02"
   }
  }
 },
 "nbformat": 4,
 "nbformat_minor": 2
}
